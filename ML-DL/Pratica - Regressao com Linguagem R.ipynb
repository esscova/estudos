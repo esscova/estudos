{
  "nbformat": 4,
  "nbformat_minor": 0,
  "metadata": {
    "colab": {
      "provenance": []
    },
    "kernelspec": {
      "name": "ir",
      "display_name": "R"
    },
    "language_info": {
      "name": "R"
    }
  },
  "cells": [
    {
      "cell_type": "markdown",
      "source": [
        "# Prática: regressão com dataset Iris\n",
        "\n",
        "**Objetivo**: Treinar um modelo de regressão utilizando arvore de decisão para prever um valor numérico (comprimento da sépala), utilizando o dataset Iris."
      ],
      "metadata": {
        "id": "aNDrCsRuEh5J"
      }
    },
    {
      "cell_type": "code",
      "execution_count": 5,
      "metadata": {
        "id": "czk-06ZhEXJe"
      },
      "outputs": [],
      "source": [
        "#install.packages(\"rpart\")\n",
        "#install.packages(\"forecast\")\n",
        "library(rpart)\n",
        "library(forecast)"
      ]
    },
    {
      "cell_type": "code",
      "source": [
        "# dados\n",
        "iris"
      ],
      "metadata": {
        "colab": {
          "base_uri": "https://localhost:8080/",
          "height": 1000
        },
        "id": "2Y7rKdo2E8mi",
        "outputId": "93c4ad49-5854-446d-f93d-53ecda34ef90"
      },
      "execution_count": 4,
      "outputs": [
        {
          "output_type": "display_data",
          "data": {
            "text/html": [
              "<table class=\"dataframe\">\n",
              "<caption>A data.frame: 150 × 5</caption>\n",
              "<thead>\n",
              "\t<tr><th scope=col>Sepal.Length</th><th scope=col>Sepal.Width</th><th scope=col>Petal.Length</th><th scope=col>Petal.Width</th><th scope=col>Species</th></tr>\n",
              "\t<tr><th scope=col>&lt;dbl&gt;</th><th scope=col>&lt;dbl&gt;</th><th scope=col>&lt;dbl&gt;</th><th scope=col>&lt;dbl&gt;</th><th scope=col>&lt;fct&gt;</th></tr>\n",
              "</thead>\n",
              "<tbody>\n",
              "\t<tr><td>5.1</td><td>3.5</td><td>1.4</td><td>0.2</td><td>setosa</td></tr>\n",
              "\t<tr><td>4.9</td><td>3.0</td><td>1.4</td><td>0.2</td><td>setosa</td></tr>\n",
              "\t<tr><td>4.7</td><td>3.2</td><td>1.3</td><td>0.2</td><td>setosa</td></tr>\n",
              "\t<tr><td>4.6</td><td>3.1</td><td>1.5</td><td>0.2</td><td>setosa</td></tr>\n",
              "\t<tr><td>5.0</td><td>3.6</td><td>1.4</td><td>0.2</td><td>setosa</td></tr>\n",
              "\t<tr><td>5.4</td><td>3.9</td><td>1.7</td><td>0.4</td><td>setosa</td></tr>\n",
              "\t<tr><td>4.6</td><td>3.4</td><td>1.4</td><td>0.3</td><td>setosa</td></tr>\n",
              "\t<tr><td>5.0</td><td>3.4</td><td>1.5</td><td>0.2</td><td>setosa</td></tr>\n",
              "\t<tr><td>4.4</td><td>2.9</td><td>1.4</td><td>0.2</td><td>setosa</td></tr>\n",
              "\t<tr><td>4.9</td><td>3.1</td><td>1.5</td><td>0.1</td><td>setosa</td></tr>\n",
              "\t<tr><td>5.4</td><td>3.7</td><td>1.5</td><td>0.2</td><td>setosa</td></tr>\n",
              "\t<tr><td>4.8</td><td>3.4</td><td>1.6</td><td>0.2</td><td>setosa</td></tr>\n",
              "\t<tr><td>4.8</td><td>3.0</td><td>1.4</td><td>0.1</td><td>setosa</td></tr>\n",
              "\t<tr><td>4.3</td><td>3.0</td><td>1.1</td><td>0.1</td><td>setosa</td></tr>\n",
              "\t<tr><td>5.8</td><td>4.0</td><td>1.2</td><td>0.2</td><td>setosa</td></tr>\n",
              "\t<tr><td>5.7</td><td>4.4</td><td>1.5</td><td>0.4</td><td>setosa</td></tr>\n",
              "\t<tr><td>5.4</td><td>3.9</td><td>1.3</td><td>0.4</td><td>setosa</td></tr>\n",
              "\t<tr><td>5.1</td><td>3.5</td><td>1.4</td><td>0.3</td><td>setosa</td></tr>\n",
              "\t<tr><td>5.7</td><td>3.8</td><td>1.7</td><td>0.3</td><td>setosa</td></tr>\n",
              "\t<tr><td>5.1</td><td>3.8</td><td>1.5</td><td>0.3</td><td>setosa</td></tr>\n",
              "\t<tr><td>5.4</td><td>3.4</td><td>1.7</td><td>0.2</td><td>setosa</td></tr>\n",
              "\t<tr><td>5.1</td><td>3.7</td><td>1.5</td><td>0.4</td><td>setosa</td></tr>\n",
              "\t<tr><td>4.6</td><td>3.6</td><td>1.0</td><td>0.2</td><td>setosa</td></tr>\n",
              "\t<tr><td>5.1</td><td>3.3</td><td>1.7</td><td>0.5</td><td>setosa</td></tr>\n",
              "\t<tr><td>4.8</td><td>3.4</td><td>1.9</td><td>0.2</td><td>setosa</td></tr>\n",
              "\t<tr><td>5.0</td><td>3.0</td><td>1.6</td><td>0.2</td><td>setosa</td></tr>\n",
              "\t<tr><td>5.0</td><td>3.4</td><td>1.6</td><td>0.4</td><td>setosa</td></tr>\n",
              "\t<tr><td>5.2</td><td>3.5</td><td>1.5</td><td>0.2</td><td>setosa</td></tr>\n",
              "\t<tr><td>5.2</td><td>3.4</td><td>1.4</td><td>0.2</td><td>setosa</td></tr>\n",
              "\t<tr><td>4.7</td><td>3.2</td><td>1.6</td><td>0.2</td><td>setosa</td></tr>\n",
              "\t<tr><td>⋮</td><td>⋮</td><td>⋮</td><td>⋮</td><td>⋮</td></tr>\n",
              "\t<tr><td>6.9</td><td>3.2</td><td>5.7</td><td>2.3</td><td>virginica</td></tr>\n",
              "\t<tr><td>5.6</td><td>2.8</td><td>4.9</td><td>2.0</td><td>virginica</td></tr>\n",
              "\t<tr><td>7.7</td><td>2.8</td><td>6.7</td><td>2.0</td><td>virginica</td></tr>\n",
              "\t<tr><td>6.3</td><td>2.7</td><td>4.9</td><td>1.8</td><td>virginica</td></tr>\n",
              "\t<tr><td>6.7</td><td>3.3</td><td>5.7</td><td>2.1</td><td>virginica</td></tr>\n",
              "\t<tr><td>7.2</td><td>3.2</td><td>6.0</td><td>1.8</td><td>virginica</td></tr>\n",
              "\t<tr><td>6.2</td><td>2.8</td><td>4.8</td><td>1.8</td><td>virginica</td></tr>\n",
              "\t<tr><td>6.1</td><td>3.0</td><td>4.9</td><td>1.8</td><td>virginica</td></tr>\n",
              "\t<tr><td>6.4</td><td>2.8</td><td>5.6</td><td>2.1</td><td>virginica</td></tr>\n",
              "\t<tr><td>7.2</td><td>3.0</td><td>5.8</td><td>1.6</td><td>virginica</td></tr>\n",
              "\t<tr><td>7.4</td><td>2.8</td><td>6.1</td><td>1.9</td><td>virginica</td></tr>\n",
              "\t<tr><td>7.9</td><td>3.8</td><td>6.4</td><td>2.0</td><td>virginica</td></tr>\n",
              "\t<tr><td>6.4</td><td>2.8</td><td>5.6</td><td>2.2</td><td>virginica</td></tr>\n",
              "\t<tr><td>6.3</td><td>2.8</td><td>5.1</td><td>1.5</td><td>virginica</td></tr>\n",
              "\t<tr><td>6.1</td><td>2.6</td><td>5.6</td><td>1.4</td><td>virginica</td></tr>\n",
              "\t<tr><td>7.7</td><td>3.0</td><td>6.1</td><td>2.3</td><td>virginica</td></tr>\n",
              "\t<tr><td>6.3</td><td>3.4</td><td>5.6</td><td>2.4</td><td>virginica</td></tr>\n",
              "\t<tr><td>6.4</td><td>3.1</td><td>5.5</td><td>1.8</td><td>virginica</td></tr>\n",
              "\t<tr><td>6.0</td><td>3.0</td><td>4.8</td><td>1.8</td><td>virginica</td></tr>\n",
              "\t<tr><td>6.9</td><td>3.1</td><td>5.4</td><td>2.1</td><td>virginica</td></tr>\n",
              "\t<tr><td>6.7</td><td>3.1</td><td>5.6</td><td>2.4</td><td>virginica</td></tr>\n",
              "\t<tr><td>6.9</td><td>3.1</td><td>5.1</td><td>2.3</td><td>virginica</td></tr>\n",
              "\t<tr><td>5.8</td><td>2.7</td><td>5.1</td><td>1.9</td><td>virginica</td></tr>\n",
              "\t<tr><td>6.8</td><td>3.2</td><td>5.9</td><td>2.3</td><td>virginica</td></tr>\n",
              "\t<tr><td>6.7</td><td>3.3</td><td>5.7</td><td>2.5</td><td>virginica</td></tr>\n",
              "\t<tr><td>6.7</td><td>3.0</td><td>5.2</td><td>2.3</td><td>virginica</td></tr>\n",
              "\t<tr><td>6.3</td><td>2.5</td><td>5.0</td><td>1.9</td><td>virginica</td></tr>\n",
              "\t<tr><td>6.5</td><td>3.0</td><td>5.2</td><td>2.0</td><td>virginica</td></tr>\n",
              "\t<tr><td>6.2</td><td>3.4</td><td>5.4</td><td>2.3</td><td>virginica</td></tr>\n",
              "\t<tr><td>5.9</td><td>3.0</td><td>5.1</td><td>1.8</td><td>virginica</td></tr>\n",
              "</tbody>\n",
              "</table>\n"
            ],
            "text/markdown": "\nA data.frame: 150 × 5\n\n| Sepal.Length &lt;dbl&gt; | Sepal.Width &lt;dbl&gt; | Petal.Length &lt;dbl&gt; | Petal.Width &lt;dbl&gt; | Species &lt;fct&gt; |\n|---|---|---|---|---|\n| 5.1 | 3.5 | 1.4 | 0.2 | setosa |\n| 4.9 | 3.0 | 1.4 | 0.2 | setosa |\n| 4.7 | 3.2 | 1.3 | 0.2 | setosa |\n| 4.6 | 3.1 | 1.5 | 0.2 | setosa |\n| 5.0 | 3.6 | 1.4 | 0.2 | setosa |\n| 5.4 | 3.9 | 1.7 | 0.4 | setosa |\n| 4.6 | 3.4 | 1.4 | 0.3 | setosa |\n| 5.0 | 3.4 | 1.5 | 0.2 | setosa |\n| 4.4 | 2.9 | 1.4 | 0.2 | setosa |\n| 4.9 | 3.1 | 1.5 | 0.1 | setosa |\n| 5.4 | 3.7 | 1.5 | 0.2 | setosa |\n| 4.8 | 3.4 | 1.6 | 0.2 | setosa |\n| 4.8 | 3.0 | 1.4 | 0.1 | setosa |\n| 4.3 | 3.0 | 1.1 | 0.1 | setosa |\n| 5.8 | 4.0 | 1.2 | 0.2 | setosa |\n| 5.7 | 4.4 | 1.5 | 0.4 | setosa |\n| 5.4 | 3.9 | 1.3 | 0.4 | setosa |\n| 5.1 | 3.5 | 1.4 | 0.3 | setosa |\n| 5.7 | 3.8 | 1.7 | 0.3 | setosa |\n| 5.1 | 3.8 | 1.5 | 0.3 | setosa |\n| 5.4 | 3.4 | 1.7 | 0.2 | setosa |\n| 5.1 | 3.7 | 1.5 | 0.4 | setosa |\n| 4.6 | 3.6 | 1.0 | 0.2 | setosa |\n| 5.1 | 3.3 | 1.7 | 0.5 | setosa |\n| 4.8 | 3.4 | 1.9 | 0.2 | setosa |\n| 5.0 | 3.0 | 1.6 | 0.2 | setosa |\n| 5.0 | 3.4 | 1.6 | 0.4 | setosa |\n| 5.2 | 3.5 | 1.5 | 0.2 | setosa |\n| 5.2 | 3.4 | 1.4 | 0.2 | setosa |\n| 4.7 | 3.2 | 1.6 | 0.2 | setosa |\n| ⋮ | ⋮ | ⋮ | ⋮ | ⋮ |\n| 6.9 | 3.2 | 5.7 | 2.3 | virginica |\n| 5.6 | 2.8 | 4.9 | 2.0 | virginica |\n| 7.7 | 2.8 | 6.7 | 2.0 | virginica |\n| 6.3 | 2.7 | 4.9 | 1.8 | virginica |\n| 6.7 | 3.3 | 5.7 | 2.1 | virginica |\n| 7.2 | 3.2 | 6.0 | 1.8 | virginica |\n| 6.2 | 2.8 | 4.8 | 1.8 | virginica |\n| 6.1 | 3.0 | 4.9 | 1.8 | virginica |\n| 6.4 | 2.8 | 5.6 | 2.1 | virginica |\n| 7.2 | 3.0 | 5.8 | 1.6 | virginica |\n| 7.4 | 2.8 | 6.1 | 1.9 | virginica |\n| 7.9 | 3.8 | 6.4 | 2.0 | virginica |\n| 6.4 | 2.8 | 5.6 | 2.2 | virginica |\n| 6.3 | 2.8 | 5.1 | 1.5 | virginica |\n| 6.1 | 2.6 | 5.6 | 1.4 | virginica |\n| 7.7 | 3.0 | 6.1 | 2.3 | virginica |\n| 6.3 | 3.4 | 5.6 | 2.4 | virginica |\n| 6.4 | 3.1 | 5.5 | 1.8 | virginica |\n| 6.0 | 3.0 | 4.8 | 1.8 | virginica |\n| 6.9 | 3.1 | 5.4 | 2.1 | virginica |\n| 6.7 | 3.1 | 5.6 | 2.4 | virginica |\n| 6.9 | 3.1 | 5.1 | 2.3 | virginica |\n| 5.8 | 2.7 | 5.1 | 1.9 | virginica |\n| 6.8 | 3.2 | 5.9 | 2.3 | virginica |\n| 6.7 | 3.3 | 5.7 | 2.5 | virginica |\n| 6.7 | 3.0 | 5.2 | 2.3 | virginica |\n| 6.3 | 2.5 | 5.0 | 1.9 | virginica |\n| 6.5 | 3.0 | 5.2 | 2.0 | virginica |\n| 6.2 | 3.4 | 5.4 | 2.3 | virginica |\n| 5.9 | 3.0 | 5.1 | 1.8 | virginica |\n\n",
            "text/latex": "A data.frame: 150 × 5\n\\begin{tabular}{lllll}\n Sepal.Length & Sepal.Width & Petal.Length & Petal.Width & Species\\\\\n <dbl> & <dbl> & <dbl> & <dbl> & <fct>\\\\\n\\hline\n\t 5.1 & 3.5 & 1.4 & 0.2 & setosa\\\\\n\t 4.9 & 3.0 & 1.4 & 0.2 & setosa\\\\\n\t 4.7 & 3.2 & 1.3 & 0.2 & setosa\\\\\n\t 4.6 & 3.1 & 1.5 & 0.2 & setosa\\\\\n\t 5.0 & 3.6 & 1.4 & 0.2 & setosa\\\\\n\t 5.4 & 3.9 & 1.7 & 0.4 & setosa\\\\\n\t 4.6 & 3.4 & 1.4 & 0.3 & setosa\\\\\n\t 5.0 & 3.4 & 1.5 & 0.2 & setosa\\\\\n\t 4.4 & 2.9 & 1.4 & 0.2 & setosa\\\\\n\t 4.9 & 3.1 & 1.5 & 0.1 & setosa\\\\\n\t 5.4 & 3.7 & 1.5 & 0.2 & setosa\\\\\n\t 4.8 & 3.4 & 1.6 & 0.2 & setosa\\\\\n\t 4.8 & 3.0 & 1.4 & 0.1 & setosa\\\\\n\t 4.3 & 3.0 & 1.1 & 0.1 & setosa\\\\\n\t 5.8 & 4.0 & 1.2 & 0.2 & setosa\\\\\n\t 5.7 & 4.4 & 1.5 & 0.4 & setosa\\\\\n\t 5.4 & 3.9 & 1.3 & 0.4 & setosa\\\\\n\t 5.1 & 3.5 & 1.4 & 0.3 & setosa\\\\\n\t 5.7 & 3.8 & 1.7 & 0.3 & setosa\\\\\n\t 5.1 & 3.8 & 1.5 & 0.3 & setosa\\\\\n\t 5.4 & 3.4 & 1.7 & 0.2 & setosa\\\\\n\t 5.1 & 3.7 & 1.5 & 0.4 & setosa\\\\\n\t 4.6 & 3.6 & 1.0 & 0.2 & setosa\\\\\n\t 5.1 & 3.3 & 1.7 & 0.5 & setosa\\\\\n\t 4.8 & 3.4 & 1.9 & 0.2 & setosa\\\\\n\t 5.0 & 3.0 & 1.6 & 0.2 & setosa\\\\\n\t 5.0 & 3.4 & 1.6 & 0.4 & setosa\\\\\n\t 5.2 & 3.5 & 1.5 & 0.2 & setosa\\\\\n\t 5.2 & 3.4 & 1.4 & 0.2 & setosa\\\\\n\t 4.7 & 3.2 & 1.6 & 0.2 & setosa\\\\\n\t ⋮ & ⋮ & ⋮ & ⋮ & ⋮\\\\\n\t 6.9 & 3.2 & 5.7 & 2.3 & virginica\\\\\n\t 5.6 & 2.8 & 4.9 & 2.0 & virginica\\\\\n\t 7.7 & 2.8 & 6.7 & 2.0 & virginica\\\\\n\t 6.3 & 2.7 & 4.9 & 1.8 & virginica\\\\\n\t 6.7 & 3.3 & 5.7 & 2.1 & virginica\\\\\n\t 7.2 & 3.2 & 6.0 & 1.8 & virginica\\\\\n\t 6.2 & 2.8 & 4.8 & 1.8 & virginica\\\\\n\t 6.1 & 3.0 & 4.9 & 1.8 & virginica\\\\\n\t 6.4 & 2.8 & 5.6 & 2.1 & virginica\\\\\n\t 7.2 & 3.0 & 5.8 & 1.6 & virginica\\\\\n\t 7.4 & 2.8 & 6.1 & 1.9 & virginica\\\\\n\t 7.9 & 3.8 & 6.4 & 2.0 & virginica\\\\\n\t 6.4 & 2.8 & 5.6 & 2.2 & virginica\\\\\n\t 6.3 & 2.8 & 5.1 & 1.5 & virginica\\\\\n\t 6.1 & 2.6 & 5.6 & 1.4 & virginica\\\\\n\t 7.7 & 3.0 & 6.1 & 2.3 & virginica\\\\\n\t 6.3 & 3.4 & 5.6 & 2.4 & virginica\\\\\n\t 6.4 & 3.1 & 5.5 & 1.8 & virginica\\\\\n\t 6.0 & 3.0 & 4.8 & 1.8 & virginica\\\\\n\t 6.9 & 3.1 & 5.4 & 2.1 & virginica\\\\\n\t 6.7 & 3.1 & 5.6 & 2.4 & virginica\\\\\n\t 6.9 & 3.1 & 5.1 & 2.3 & virginica\\\\\n\t 5.8 & 2.7 & 5.1 & 1.9 & virginica\\\\\n\t 6.8 & 3.2 & 5.9 & 2.3 & virginica\\\\\n\t 6.7 & 3.3 & 5.7 & 2.5 & virginica\\\\\n\t 6.7 & 3.0 & 5.2 & 2.3 & virginica\\\\\n\t 6.3 & 2.5 & 5.0 & 1.9 & virginica\\\\\n\t 6.5 & 3.0 & 5.2 & 2.0 & virginica\\\\\n\t 6.2 & 3.4 & 5.4 & 2.3 & virginica\\\\\n\t 5.9 & 3.0 & 5.1 & 1.8 & virginica\\\\\n\\end{tabular}\n",
            "text/plain": [
              "    Sepal.Length Sepal.Width Petal.Length Petal.Width Species  \n",
              "1   5.1          3.5         1.4          0.2         setosa   \n",
              "2   4.9          3.0         1.4          0.2         setosa   \n",
              "3   4.7          3.2         1.3          0.2         setosa   \n",
              "4   4.6          3.1         1.5          0.2         setosa   \n",
              "5   5.0          3.6         1.4          0.2         setosa   \n",
              "6   5.4          3.9         1.7          0.4         setosa   \n",
              "7   4.6          3.4         1.4          0.3         setosa   \n",
              "8   5.0          3.4         1.5          0.2         setosa   \n",
              "9   4.4          2.9         1.4          0.2         setosa   \n",
              "10  4.9          3.1         1.5          0.1         setosa   \n",
              "11  5.4          3.7         1.5          0.2         setosa   \n",
              "12  4.8          3.4         1.6          0.2         setosa   \n",
              "13  4.8          3.0         1.4          0.1         setosa   \n",
              "14  4.3          3.0         1.1          0.1         setosa   \n",
              "15  5.8          4.0         1.2          0.2         setosa   \n",
              "16  5.7          4.4         1.5          0.4         setosa   \n",
              "17  5.4          3.9         1.3          0.4         setosa   \n",
              "18  5.1          3.5         1.4          0.3         setosa   \n",
              "19  5.7          3.8         1.7          0.3         setosa   \n",
              "20  5.1          3.8         1.5          0.3         setosa   \n",
              "21  5.4          3.4         1.7          0.2         setosa   \n",
              "22  5.1          3.7         1.5          0.4         setosa   \n",
              "23  4.6          3.6         1.0          0.2         setosa   \n",
              "24  5.1          3.3         1.7          0.5         setosa   \n",
              "25  4.8          3.4         1.9          0.2         setosa   \n",
              "26  5.0          3.0         1.6          0.2         setosa   \n",
              "27  5.0          3.4         1.6          0.4         setosa   \n",
              "28  5.2          3.5         1.5          0.2         setosa   \n",
              "29  5.2          3.4         1.4          0.2         setosa   \n",
              "30  4.7          3.2         1.6          0.2         setosa   \n",
              "⋮   ⋮            ⋮           ⋮            ⋮           ⋮        \n",
              "121 6.9          3.2         5.7          2.3         virginica\n",
              "122 5.6          2.8         4.9          2.0         virginica\n",
              "123 7.7          2.8         6.7          2.0         virginica\n",
              "124 6.3          2.7         4.9          1.8         virginica\n",
              "125 6.7          3.3         5.7          2.1         virginica\n",
              "126 7.2          3.2         6.0          1.8         virginica\n",
              "127 6.2          2.8         4.8          1.8         virginica\n",
              "128 6.1          3.0         4.9          1.8         virginica\n",
              "129 6.4          2.8         5.6          2.1         virginica\n",
              "130 7.2          3.0         5.8          1.6         virginica\n",
              "131 7.4          2.8         6.1          1.9         virginica\n",
              "132 7.9          3.8         6.4          2.0         virginica\n",
              "133 6.4          2.8         5.6          2.2         virginica\n",
              "134 6.3          2.8         5.1          1.5         virginica\n",
              "135 6.1          2.6         5.6          1.4         virginica\n",
              "136 7.7          3.0         6.1          2.3         virginica\n",
              "137 6.3          3.4         5.6          2.4         virginica\n",
              "138 6.4          3.1         5.5          1.8         virginica\n",
              "139 6.0          3.0         4.8          1.8         virginica\n",
              "140 6.9          3.1         5.4          2.1         virginica\n",
              "141 6.7          3.1         5.6          2.4         virginica\n",
              "142 6.9          3.1         5.1          2.3         virginica\n",
              "143 5.8          2.7         5.1          1.9         virginica\n",
              "144 6.8          3.2         5.9          2.3         virginica\n",
              "145 6.7          3.3         5.7          2.5         virginica\n",
              "146 6.7          3.0         5.2          2.3         virginica\n",
              "147 6.3          2.5         5.0          1.9         virginica\n",
              "148 6.5          3.0         5.2          2.0         virginica\n",
              "149 6.2          3.4         5.4          2.3         virginica\n",
              "150 5.9          3.0         5.1          1.8         virginica"
            ]
          },
          "metadata": {}
        }
      ]
    },
    {
      "cell_type": "code",
      "source": [
        "# bases treino e teste\n",
        "set.seed(42)\n",
        "indices_treino <- sample(1:nrow(iris), 0.8 * nrow(iris))\n",
        "\n",
        "dados_treino <- iris[indices_treino,]\n",
        "dados_teste <- iris[-indices_treino,]\n",
        "\n",
        "dim(dados_treino)\n",
        "dim(dados_teste)"
      ],
      "metadata": {
        "colab": {
          "base_uri": "https://localhost:8080/",
          "height": 52
        },
        "id": "sZcYaJIAGCXq",
        "outputId": "d054a10e-b51b-45fc-aa5d-f2debceade78"
      },
      "execution_count": 6,
      "outputs": [
        {
          "output_type": "display_data",
          "data": {
            "text/html": [
              "<style>\n",
              ".list-inline {list-style: none; margin:0; padding: 0}\n",
              ".list-inline>li {display: inline-block}\n",
              ".list-inline>li:not(:last-child)::after {content: \"\\00b7\"; padding: 0 .5ex}\n",
              "</style>\n",
              "<ol class=list-inline><li>120</li><li>5</li></ol>\n"
            ],
            "text/markdown": "1. 120\n2. 5\n\n\n",
            "text/latex": "\\begin{enumerate*}\n\\item 120\n\\item 5\n\\end{enumerate*}\n",
            "text/plain": [
              "[1] 120   5"
            ]
          },
          "metadata": {}
        },
        {
          "output_type": "display_data",
          "data": {
            "text/html": [
              "<style>\n",
              ".list-inline {list-style: none; margin:0; padding: 0}\n",
              ".list-inline>li {display: inline-block}\n",
              ".list-inline>li:not(:last-child)::after {content: \"\\00b7\"; padding: 0 .5ex}\n",
              "</style>\n",
              "<ol class=list-inline><li>30</li><li>5</li></ol>\n"
            ],
            "text/markdown": "1. 30\n2. 5\n\n\n",
            "text/latex": "\\begin{enumerate*}\n\\item 30\n\\item 5\n\\end{enumerate*}\n",
            "text/plain": [
              "[1] 30  5"
            ]
          },
          "metadata": {}
        }
      ]
    },
    {
      "cell_type": "code",
      "source": [
        "# modelo com arvore de decisao\n",
        "modelo <- rpart(Sepal.Length ~ Sepal.Width + Petal.Length + Species, data = dados_treino)\n",
        "modelo"
      ],
      "metadata": {
        "colab": {
          "base_uri": "https://localhost:8080/",
          "height": 295
        },
        "id": "uUrciD-PGp3i",
        "outputId": "ff6aacc6-aea7-4376-8bab-4eb55b825821"
      },
      "execution_count": 8,
      "outputs": [
        {
          "output_type": "display_data",
          "data": {
            "text/plain": [
              "n= 120 \n",
              "\n",
              "node), split, n, deviance, yval\n",
              "      * denotes terminal node\n",
              "\n",
              " 1) root 120 86.259920 5.824167  \n",
              "   2) Petal.Length< 4.25 61 11.293110 5.175410  \n",
              "     4) Petal.Length< 3.4 44  4.756364 4.990909  \n",
              "       8) Sepal.Width< 3.25 19  1.081053 4.731579 *\n",
              "       9) Sepal.Width>=3.25 25  1.426400 5.188000 *\n",
              "     5) Petal.Length>=3.4 17  1.162353 5.652941 *\n",
              "   3) Petal.Length>=4.25 59 22.748470 6.494915  \n",
              "     6) Petal.Length< 5.65 42  7.836190 6.209524  \n",
              "      12) Sepal.Width< 3.05 30  4.987000 6.090000 *\n",
              "      13) Sepal.Width>=3.05 12  1.349167 6.508333 *\n",
              "     7) Petal.Length>=5.65 17  3.040000 7.200000 *"
            ]
          },
          "metadata": {}
        }
      ]
    },
    {
      "cell_type": "code",
      "source": [
        "# sumario\n",
        "summary(modelo)"
      ],
      "metadata": {
        "colab": {
          "base_uri": "https://localhost:8080/"
        },
        "id": "rSTw9xmiHXlo",
        "outputId": "50a9f4cd-fa6d-4b28-b4ec-2aff06db5b22"
      },
      "execution_count": 9,
      "outputs": [
        {
          "output_type": "stream",
          "name": "stdout",
          "text": [
            "Call:\n",
            "rpart(formula = Sepal.Length ~ Sepal.Width + Petal.Length + Species, \n",
            "    data = dados_treino)\n",
            "  n= 120 \n",
            "\n",
            "          CP nsplit rel error    xerror       xstd\n",
            "1 0.60536028      0 1.0000000 1.0228262 0.10945362\n",
            "2 0.13763385      1 0.3946397 0.4579395 0.05973661\n",
            "3 0.06230470      2 0.2570059 0.3121192 0.03543150\n",
            "4 0.02607133      3 0.1947012 0.2588790 0.03248278\n",
            "5 0.01738958      4 0.1686298 0.2262989 0.03014343\n",
            "6 0.01000000      5 0.1512403 0.2016108 0.02756773\n",
            "\n",
            "Variable importance\n",
            "Petal.Length      Species  Sepal.Width \n",
            "          53           30           17 \n",
            "\n",
            "Node number 1: 120 observations,    complexity param=0.6053603\n",
            "  mean=5.824167, MSE=0.7188326 \n",
            "  left son=2 (61 obs) right son=3 (59 obs)\n",
            "  Primary splits:\n",
            "      Petal.Length < 4.25 to the left,  improve=0.60536030, (0 missing)\n",
            "      Species      splits as  LRR,      improve=0.50208890, (0 missing)\n",
            "      Sepal.Width  < 3.35 to the right, improve=0.03880401, (0 missing)\n",
            "  Surrogate splits:\n",
            "      Species     splits as  LLR,      agree=0.842, adj=0.678, (0 split)\n",
            "      Sepal.Width < 3.35 to the right, agree=0.642, adj=0.271, (0 split)\n",
            "\n",
            "Node number 2: 61 observations,    complexity param=0.0623047\n",
            "  mean=5.17541, MSE=0.185133 \n",
            "  left son=4 (44 obs) right son=5 (17 obs)\n",
            "  Primary splits:\n",
            "      Petal.Length < 3.4  to the left,  improve=0.4759004, (0 missing)\n",
            "      Species      splits as  LR-,      improve=0.3796576, (0 missing)\n",
            "      Sepal.Width  < 2.85 to the right, improve=0.1382913, (0 missing)\n",
            "  Surrogate splits:\n",
            "      Species     splits as  LR-,      agree=0.951, adj=0.824, (0 split)\n",
            "      Sepal.Width < 2.95 to the right, agree=0.869, adj=0.529, (0 split)\n",
            "\n",
            "Node number 3: 59 observations,    complexity param=0.1376338\n",
            "  mean=6.494915, MSE=0.3855674 \n",
            "  left son=6 (42 obs) right son=7 (17 obs)\n",
            "  Primary splits:\n",
            "      Petal.Length < 5.65 to the left,  improve=0.52189360, (0 missing)\n",
            "      Sepal.Width  < 2.75 to the left,  improve=0.09599311, (0 missing)\n",
            "      Species      splits as  -LR,      improve=0.07549324, (0 missing)\n",
            "  Surrogate splits:\n",
            "      Sepal.Width < 3.15 to the left,  agree=0.763, adj=0.176, (0 split)\n",
            "\n",
            "Node number 4: 44 observations,    complexity param=0.02607133\n",
            "  mean=4.990909, MSE=0.1080992 \n",
            "  left son=8 (19 obs) right son=9 (25 obs)\n",
            "  Primary splits:\n",
            "      Sepal.Width  < 3.25 to the left,  improve=0.4728215, (0 missing)\n",
            "      Petal.Length < 1.45 to the left,  improve=0.0637105, (0 missing)\n",
            "  Surrogate splits:\n",
            "      Petal.Length < 1.35 to the left,  agree=0.636, adj=0.158, (0 split)\n",
            "      Species      splits as  RL-,      agree=0.636, adj=0.158, (0 split)\n",
            "\n",
            "Node number 5: 17 observations\n",
            "  mean=5.652941, MSE=0.0683737 \n",
            "\n",
            "Node number 6: 42 observations,    complexity param=0.01738958\n",
            "  mean=6.209524, MSE=0.186576 \n",
            "  left son=12 (30 obs) right son=13 (12 obs)\n",
            "  Primary splits:\n",
            "      Sepal.Width  < 3.05 to the left,  improve=0.191422600, (0 missing)\n",
            "      Petal.Length < 5.15 to the left,  improve=0.123337200, (0 missing)\n",
            "      Species      splits as  -RL,      improve=0.006341298, (0 missing)\n",
            "\n",
            "Node number 7: 17 observations\n",
            "  mean=7.2, MSE=0.1788235 \n",
            "\n",
            "Node number 8: 19 observations\n",
            "  mean=4.731579, MSE=0.05689751 \n",
            "\n",
            "Node number 9: 25 observations\n",
            "  mean=5.188, MSE=0.057056 \n",
            "\n",
            "Node number 12: 30 observations\n",
            "  mean=6.09, MSE=0.1662333 \n",
            "\n",
            "Node number 13: 12 observations\n",
            "  mean=6.508333, MSE=0.1124306 \n",
            "\n"
          ]
        }
      ]
    },
    {
      "cell_type": "code",
      "source": [
        "# visualizando a arvore de decisao\n",
        "plot(modelo)\n",
        "text(modelo)"
      ],
      "metadata": {
        "colab": {
          "base_uri": "https://localhost:8080/",
          "height": 437
        },
        "id": "PL_UcpQmHgVW",
        "outputId": "beb00e38-c3f9-4f01-d725-e30f00c5a1e3"
      },
      "execution_count": 10,
      "outputs": [
        {
          "output_type": "display_data",
          "data": {
            "text/plain": [
              "plot without title"
            ],
            "image/png": "[encoded data removed]"
          },
          "metadata": {
            "image/png": {
              "width": 420,
              "height": 420
            }
          }
        }
      ]
    },
    {
      "cell_type": "code",
      "source": [
        "# previsoes\n",
        "predicao <- predict(modelo, dados_teste)\n",
        "head(predicao)"
      ],
      "metadata": {
        "colab": {
          "base_uri": "https://localhost:8080/",
          "height": 34
        },
        "id": "a6QcBOBpHqIn",
        "outputId": "8979cc32-3cb1-42d1-f236-f2d455f3de7b"
      },
      "execution_count": 12,
      "outputs": [
        {
          "output_type": "display_data",
          "data": {
            "text/html": [
              "<style>\n",
              ".dl-inline {width: auto; margin:0; padding: 0}\n",
              ".dl-inline>dt, .dl-inline>dd {float: none; width: auto; display: inline-block}\n",
              ".dl-inline>dt::after {content: \":\\0020\"; padding-right: .5ex}\n",
              ".dl-inline>dt:not(:first-of-type) {padding-left: .5ex}\n",
              "</style><dl class=dl-inline><dt>7</dt><dd>5.188</dd><dt>11</dt><dd>5.188</dd><dt>12</dt><dd>5.188</dd><dt>19</dt><dd>5.188</dd><dt>23</dt><dd>5.188</dd><dt>28</dt><dd>5.188</dd></dl>\n"
            ],
            "text/markdown": "7\n:   5.18811\n:   5.18812\n:   5.18819\n:   5.18823\n:   5.18828\n:   5.188\n\n",
            "text/latex": "\\begin{description*}\n\\item[7] 5.188\n\\item[11] 5.188\n\\item[12] 5.188\n\\item[19] 5.188\n\\item[23] 5.188\n\\item[28] 5.188\n\\end{description*}\n",
            "text/plain": [
              "    7    11    12    19    23    28 \n",
              "5.188 5.188 5.188 5.188 5.188 5.188 "
            ]
          },
          "metadata": {}
        }
      ]
    },
    {
      "cell_type": "code",
      "source": [
        "# comparando as previsoes com dados reais\n",
        "comparacao <- cbind(\n",
        "  predicao, # previsao do modelo\n",
        "  dados_teste$Sepal.Length, # dados reais\n",
        "  predicao - dados_teste$Sepal.Length # diferença entre prev e reais\n",
        ")\n",
        "head(comparacao)"
      ],
      "metadata": {
        "colab": {
          "base_uri": "https://localhost:8080/",
          "height": 255
        },
        "id": "8hBwxGBgH6uZ",
        "outputId": "555fc4ec-3bbf-4811-d3ae-9e0bbdf33879"
      },
      "execution_count": 13,
      "outputs": [
        {
          "output_type": "display_data",
          "data": {
            "text/html": [
              "<table class=\"dataframe\">\n",
              "<caption>A matrix: 6 × 3 of type dbl</caption>\n",
              "<thead>\n",
              "\t<tr><th></th><th scope=col>predicao</th><th scope=col></th><th scope=col></th></tr>\n",
              "</thead>\n",
              "<tbody>\n",
              "\t<tr><th scope=row>7</th><td>5.188</td><td>4.6</td><td> 0.588</td></tr>\n",
              "\t<tr><th scope=row>11</th><td>5.188</td><td>5.4</td><td>-0.212</td></tr>\n",
              "\t<tr><th scope=row>12</th><td>5.188</td><td>4.8</td><td> 0.388</td></tr>\n",
              "\t<tr><th scope=row>19</th><td>5.188</td><td>5.7</td><td>-0.512</td></tr>\n",
              "\t<tr><th scope=row>23</th><td>5.188</td><td>4.6</td><td> 0.588</td></tr>\n",
              "\t<tr><th scope=row>28</th><td>5.188</td><td>5.2</td><td>-0.012</td></tr>\n",
              "</tbody>\n",
              "</table>\n"
            ],
            "text/markdown": "\nA matrix: 6 × 3 of type dbl\n\n| <!--/--> | predicao | <!----> | <!----> |\n|---|---|---|---|\n| 7 | 5.188 | 4.6 |  0.588 |\n| 11 | 5.188 | 5.4 | -0.212 |\n| 12 | 5.188 | 4.8 |  0.388 |\n| 19 | 5.188 | 5.7 | -0.512 |\n| 23 | 5.188 | 4.6 |  0.588 |\n| 28 | 5.188 | 5.2 | -0.012 |\n\n",
            "text/latex": "A matrix: 6 × 3 of type dbl\n\\begin{tabular}{r|lll}\n  & predicao &  & \\\\\n\\hline\n\t7 & 5.188 & 4.6 &  0.588\\\\\n\t11 & 5.188 & 5.4 & -0.212\\\\\n\t12 & 5.188 & 4.8 &  0.388\\\\\n\t19 & 5.188 & 5.7 & -0.512\\\\\n\t23 & 5.188 & 4.6 &  0.588\\\\\n\t28 & 5.188 & 5.2 & -0.012\\\\\n\\end{tabular}\n",
            "text/plain": [
              "   predicao           \n",
              "7  5.188    4.6  0.588\n",
              "11 5.188    5.4 -0.212\n",
              "12 5.188    4.8  0.388\n",
              "19 5.188    5.7 -0.512\n",
              "23 5.188    4.6  0.588\n",
              "28 5.188    5.2 -0.012"
            ]
          },
          "metadata": {}
        }
      ]
    },
    {
      "cell_type": "code",
      "source": [
        "# metricas do modelo\n",
        "accuracy(predicao, dados_teste$Petal.Length)"
      ],
      "metadata": {
        "colab": {
          "base_uri": "https://localhost:8080/",
          "height": 98
        },
        "id": "9Dhmm-JpIlCc",
        "outputId": "bd2d59a3-dbd5-4a34-8f58-6444da181501"
      },
      "execution_count": 14,
      "outputs": [
        {
          "output_type": "display_data",
          "data": {
            "text/html": [
              "<table class=\"dataframe\">\n",
              "<caption>A matrix: 1 × 5 of type dbl</caption>\n",
              "<thead>\n",
              "\t<tr><th></th><th scope=col>ME</th><th scope=col>RMSE</th><th scope=col>MAE</th><th scope=col>MPE</th><th scope=col>MAPE</th></tr>\n",
              "</thead>\n",
              "<tbody>\n",
              "\t<tr><th scope=row>Test set</th><td>-2.003591</td><td>2.314573</td><td>2.003591</td><td>-96.89496</td><td>96.89496</td></tr>\n",
              "</tbody>\n",
              "</table>\n"
            ],
            "text/markdown": "\nA matrix: 1 × 5 of type dbl\n\n| <!--/--> | ME | RMSE | MAE | MPE | MAPE |\n|---|---|---|---|---|---|\n| Test set | -2.003591 | 2.314573 | 2.003591 | -96.89496 | 96.89496 |\n\n",
            "text/latex": "A matrix: 1 × 5 of type dbl\n\\begin{tabular}{r|lllll}\n  & ME & RMSE & MAE & MPE & MAPE\\\\\n\\hline\n\tTest set & -2.003591 & 2.314573 & 2.003591 & -96.89496 & 96.89496\\\\\n\\end{tabular}\n",
            "text/plain": [
              "         ME        RMSE     MAE      MPE       MAPE    \n",
              "Test set -2.003591 2.314573 2.003591 -96.89496 96.89496"
            ]
          },
          "metadata": {}
        }
      ]
    },
    {
      "cell_type": "markdown",
      "source": [
        "ME indica que o modelo está subestimando, tanto RMSE e MAE com erro medio de 2 unidades e MPE e MAPE com grandes erros percentuais."
      ],
      "metadata": {
        "id": "4A73LxAPL1-2"
      }
    },
    {
      "cell_type": "code",
      "source": [
        "# ajustando hiperparametros\n",
        "modelo_ajustado <- rpart(Sepal.Length ~ Sepal.Width + Petal.Length + Species,\n",
        "                          data = dados_treino,\n",
        "                          method = \"anova\",      # especifica que é um modelo de regressão\n",
        "                          control = rpart.control(\n",
        "                            maxdepth = 5,        # profundidade máxima da árvore\n",
        "                            minsplit = 20,       # mínimo de observações para tentar dividir um nó\n",
        "                            minbucket = 7,       # mínimo de observações em um nó terminal (folha)\n",
        "                            cp = 0.01            # penalização ajusta a poda da árvore\n",
        "                          ))"
      ],
      "metadata": {
        "id": "3PbbyfvKMglg"
      },
      "execution_count": 17,
      "outputs": []
    },
    {
      "cell_type": "code",
      "source": [
        "modelo_ajustado\n",
        "summary(modelo_ajustado)"
      ],
      "metadata": {
        "colab": {
          "base_uri": "https://localhost:8080/",
          "height": 1000
        },
        "id": "7AWP-21CNIA5",
        "outputId": "3c4883c8-e62c-42c4-b2ad-b12ebce47fea"
      },
      "execution_count": 18,
      "outputs": [
        {
          "output_type": "display_data",
          "data": {
            "text/plain": [
              "n= 120 \n",
              "\n",
              "node), split, n, deviance, yval\n",
              "      * denotes terminal node\n",
              "\n",
              " 1) root 120 86.259920 5.824167  \n",
              "   2) Petal.Length< 4.25 61 11.293110 5.175410  \n",
              "     4) Petal.Length< 3.4 44  4.756364 4.990909  \n",
              "       8) Sepal.Width< 3.25 19  1.081053 4.731579 *\n",
              "       9) Sepal.Width>=3.25 25  1.426400 5.188000 *\n",
              "     5) Petal.Length>=3.4 17  1.162353 5.652941 *\n",
              "   3) Petal.Length>=4.25 59 22.748470 6.494915  \n",
              "     6) Petal.Length< 5.65 42  7.836190 6.209524  \n",
              "      12) Sepal.Width< 3.05 30  4.987000 6.090000 *\n",
              "      13) Sepal.Width>=3.05 12  1.349167 6.508333 *\n",
              "     7) Petal.Length>=5.65 17  3.040000 7.200000 *"
            ]
          },
          "metadata": {}
        },
        {
          "output_type": "stream",
          "name": "stdout",
          "text": [
            "Call:\n",
            "rpart(formula = Sepal.Length ~ Sepal.Width + Petal.Length + Species, \n",
            "    data = dados_treino, method = \"anova\", control = rpart.control(maxdepth = 5, \n",
            "        minsplit = 20, minbucket = 7, cp = 0.01))\n",
            "  n= 120 \n",
            "\n",
            "          CP nsplit rel error    xerror       xstd\n",
            "1 0.60536028      0 1.0000000 1.0236329 0.11067080\n",
            "2 0.13763385      1 0.3946397 0.4763262 0.06125625\n",
            "3 0.06230470      2 0.2570059 0.3347907 0.04231221\n",
            "4 0.02607133      3 0.1947012 0.2899223 0.03507471\n",
            "5 0.01738958      4 0.1686298 0.2400775 0.03007982\n",
            "6 0.01000000      5 0.1512403 0.2315420 0.03071541\n",
            "\n",
            "Variable importance\n",
            "Petal.Length      Species  Sepal.Width \n",
            "          53           30           17 \n",
            "\n",
            "Node number 1: 120 observations,    complexity param=0.6053603\n",
            "  mean=5.824167, MSE=0.7188326 \n",
            "  left son=2 (61 obs) right son=3 (59 obs)\n",
            "  Primary splits:\n",
            "      Petal.Length < 4.25 to the left,  improve=0.60536030, (0 missing)\n",
            "      Species      splits as  LRR,      improve=0.50208890, (0 missing)\n",
            "      Sepal.Width  < 3.35 to the right, improve=0.03880401, (0 missing)\n",
            "  Surrogate splits:\n",
            "      Species     splits as  LLR,      agree=0.842, adj=0.678, (0 split)\n",
            "      Sepal.Width < 3.35 to the right, agree=0.642, adj=0.271, (0 split)\n",
            "\n",
            "Node number 2: 61 observations,    complexity param=0.0623047\n",
            "  mean=5.17541, MSE=0.185133 \n",
            "  left son=4 (44 obs) right son=5 (17 obs)\n",
            "  Primary splits:\n",
            "      Petal.Length < 3.4  to the left,  improve=0.4759004, (0 missing)\n",
            "      Species      splits as  LR-,      improve=0.3796576, (0 missing)\n",
            "      Sepal.Width  < 2.85 to the right, improve=0.1382913, (0 missing)\n",
            "  Surrogate splits:\n",
            "      Species     splits as  LR-,      agree=0.951, adj=0.824, (0 split)\n",
            "      Sepal.Width < 2.95 to the right, agree=0.869, adj=0.529, (0 split)\n",
            "\n",
            "Node number 3: 59 observations,    complexity param=0.1376338\n",
            "  mean=6.494915, MSE=0.3855674 \n",
            "  left son=6 (42 obs) right son=7 (17 obs)\n",
            "  Primary splits:\n",
            "      Petal.Length < 5.65 to the left,  improve=0.52189360, (0 missing)\n",
            "      Sepal.Width  < 2.75 to the left,  improve=0.09599311, (0 missing)\n",
            "      Species      splits as  -LR,      improve=0.07549324, (0 missing)\n",
            "  Surrogate splits:\n",
            "      Sepal.Width < 3.15 to the left,  agree=0.763, adj=0.176, (0 split)\n",
            "\n",
            "Node number 4: 44 observations,    complexity param=0.02607133\n",
            "  mean=4.990909, MSE=0.1080992 \n",
            "  left son=8 (19 obs) right son=9 (25 obs)\n",
            "  Primary splits:\n",
            "      Sepal.Width  < 3.25 to the left,  improve=0.4728215, (0 missing)\n",
            "      Petal.Length < 1.45 to the left,  improve=0.0637105, (0 missing)\n",
            "  Surrogate splits:\n",
            "      Petal.Length < 1.35 to the left,  agree=0.636, adj=0.158, (0 split)\n",
            "      Species      splits as  RL-,      agree=0.636, adj=0.158, (0 split)\n",
            "\n",
            "Node number 5: 17 observations\n",
            "  mean=5.652941, MSE=0.0683737 \n",
            "\n",
            "Node number 6: 42 observations,    complexity param=0.01738958\n",
            "  mean=6.209524, MSE=0.186576 \n",
            "  left son=12 (30 obs) right son=13 (12 obs)\n",
            "  Primary splits:\n",
            "      Sepal.Width  < 3.05 to the left,  improve=0.191422600, (0 missing)\n",
            "      Petal.Length < 5.15 to the left,  improve=0.123337200, (0 missing)\n",
            "      Species      splits as  -RL,      improve=0.006341298, (0 missing)\n",
            "\n",
            "Node number 7: 17 observations\n",
            "  mean=7.2, MSE=0.1788235 \n",
            "\n",
            "Node number 8: 19 observations\n",
            "  mean=4.731579, MSE=0.05689751 \n",
            "\n",
            "Node number 9: 25 observations\n",
            "  mean=5.188, MSE=0.057056 \n",
            "\n",
            "Node number 12: 30 observations\n",
            "  mean=6.09, MSE=0.1662333 \n",
            "\n",
            "Node number 13: 12 observations\n",
            "  mean=6.508333, MSE=0.1124306 \n",
            "\n"
          ]
        }
      ]
    },
    {
      "cell_type": "code",
      "source": [
        "# visualizando a arvore do modelo ajustado\n",
        "plot(modelo_ajustado)\n",
        "text(modelo_ajustado)"
      ],
      "metadata": {
        "colab": {
          "base_uri": "https://localhost:8080/",
          "height": 437
        },
        "id": "q8BWYfQDNxQz",
        "outputId": "00cfe5b7-62fd-4373-c0cb-e9f6411dd839"
      },
      "execution_count": 19,
      "outputs": [
        {
          "output_type": "display_data",
          "data": {
            "text/plain": [
              "plot without title"
            ],
            "image/png": "[encoded data removed]"
          },
          "metadata": {
            "image/png": {
              "width": 420,
              "height": 420
            }
          }
        }
      ]
    },
    {
      "cell_type": "code",
      "source": [
        "# previsao\n",
        "predicao_ajustada <- predict(modelo_ajustado, dados_teste)\n",
        "predicao_ajustada"
      ],
      "metadata": {
        "colab": {
          "base_uri": "https://localhost:8080/",
          "height": 104
        },
        "id": "tr6-visXN8cV",
        "outputId": "e8c19721-b64f-4854-a06b-d2897294d71e"
      },
      "execution_count": 20,
      "outputs": [
        {
          "output_type": "display_data",
          "data": {
            "text/html": [
              "<style>\n",
              ".dl-inline {width: auto; margin:0; padding: 0}\n",
              ".dl-inline>dt, .dl-inline>dd {float: none; width: auto; display: inline-block}\n",
              ".dl-inline>dt::after {content: \":\\0020\"; padding-right: .5ex}\n",
              ".dl-inline>dt:not(:first-of-type) {padding-left: .5ex}\n",
              "</style><dl class=dl-inline><dt>7</dt><dd>5.188</dd><dt>11</dt><dd>5.188</dd><dt>12</dt><dd>5.188</dd><dt>19</dt><dd>5.188</dd><dt>23</dt><dd>5.188</dd><dt>28</dt><dd>5.188</dd><dt>37</dt><dd>5.188</dd><dt>45</dt><dd>5.188</dd><dt>46</dt><dd>4.73157894736842</dd><dt>51</dt><dd>6.50833333333333</dd><dt>52</dt><dd>6.50833333333333</dd><dt>56</dt><dd>6.09</dd><dt>59</dt><dd>6.09</dd><dt>70</dt><dd>5.65294117647059</dd><dt>75</dt><dd>6.09</dd><dt>78</dt><dd>6.09</dd><dt>79</dt><dd>6.09</dd><dt>82</dt><dd>5.65294117647059</dd><dt>91</dt><dd>6.09</dd><dt>95</dt><dd>5.65294117647059</dd><dt>101</dt><dd>7.2</dd><dt>106</dt><dd>7.2</dd><dt>112</dt><dd>6.09</dd><dt>116</dt><dd>6.50833333333333</dd><dt>117</dt><dd>6.09</dd><dt>127</dt><dd>6.09</dd><dt>133</dt><dd>6.09</dd><dt>134</dt><dd>6.09</dd><dt>137</dt><dd>6.50833333333333</dd><dt>148</dt><dd>6.09</dd></dl>\n"
            ],
            "text/markdown": "7\n:   5.18811\n:   5.18812\n:   5.18819\n:   5.18823\n:   5.18828\n:   5.18837\n:   5.18845\n:   5.18846\n:   4.7315789473684251\n:   6.5083333333333352\n:   6.5083333333333356\n:   6.0959\n:   6.0970\n:   5.6529411764705975\n:   6.0978\n:   6.0979\n:   6.0982\n:   5.6529411764705991\n:   6.0995\n:   5.65294117647059101\n:   7.2106\n:   7.2112\n:   6.09116\n:   6.50833333333333117\n:   6.09127\n:   6.09133\n:   6.09134\n:   6.09137\n:   6.50833333333333148\n:   6.09\n\n",
            "text/latex": "\\begin{description*}\n\\item[7] 5.188\n\\item[11] 5.188\n\\item[12] 5.188\n\\item[19] 5.188\n\\item[23] 5.188\n\\item[28] 5.188\n\\item[37] 5.188\n\\item[45] 5.188\n\\item[46] 4.73157894736842\n\\item[51] 6.50833333333333\n\\item[52] 6.50833333333333\n\\item[56] 6.09\n\\item[59] 6.09\n\\item[70] 5.65294117647059\n\\item[75] 6.09\n\\item[78] 6.09\n\\item[79] 6.09\n\\item[82] 5.65294117647059\n\\item[91] 6.09\n\\item[95] 5.65294117647059\n\\item[101] 7.2\n\\item[106] 7.2\n\\item[112] 6.09\n\\item[116] 6.50833333333333\n\\item[117] 6.09\n\\item[127] 6.09\n\\item[133] 6.09\n\\item[134] 6.09\n\\item[137] 6.50833333333333\n\\item[148] 6.09\n\\end{description*}\n",
            "text/plain": [
              "       7       11       12       19       23       28       37       45 \n",
              "5.188000 5.188000 5.188000 5.188000 5.188000 5.188000 5.188000 5.188000 \n",
              "      46       51       52       56       59       70       75       78 \n",
              "4.731579 6.508333 6.508333 6.090000 6.090000 5.652941 6.090000 6.090000 \n",
              "      79       82       91       95      101      106      112      116 \n",
              "6.090000 5.652941 6.090000 5.652941 7.200000 7.200000 6.090000 6.508333 \n",
              "     117      127      133      134      137      148 \n",
              "6.090000 6.090000 6.090000 6.090000 6.508333 6.090000 "
            ]
          },
          "metadata": {}
        }
      ]
    },
    {
      "cell_type": "code",
      "source": [
        "# comparando previsoes com valores reais\n",
        "comparacao_ajustada <- cbind(\n",
        "  predicao_ajustada,\n",
        "  dados_teste$Sepal.Length,\n",
        "  predicao_ajustada - dados_teste$Sepal.Length\n",
        ")\n",
        "head(comparacao_ajustada)"
      ],
      "metadata": {
        "colab": {
          "base_uri": "https://localhost:8080/",
          "height": 255
        },
        "id": "0H7jKpnqOLtT",
        "outputId": "92cea4ec-c44e-427c-edc0-7541d7fa87b6"
      },
      "execution_count": 21,
      "outputs": [
        {
          "output_type": "display_data",
          "data": {
            "text/html": [
              "<table class=\"dataframe\">\n",
              "<caption>A matrix: 6 × 3 of type dbl</caption>\n",
              "<thead>\n",
              "\t<tr><th></th><th scope=col>predicao_ajustada</th><th scope=col></th><th scope=col></th></tr>\n",
              "</thead>\n",
              "<tbody>\n",
              "\t<tr><th scope=row>7</th><td>5.188</td><td>4.6</td><td> 0.588</td></tr>\n",
              "\t<tr><th scope=row>11</th><td>5.188</td><td>5.4</td><td>-0.212</td></tr>\n",
              "\t<tr><th scope=row>12</th><td>5.188</td><td>4.8</td><td> 0.388</td></tr>\n",
              "\t<tr><th scope=row>19</th><td>5.188</td><td>5.7</td><td>-0.512</td></tr>\n",
              "\t<tr><th scope=row>23</th><td>5.188</td><td>4.6</td><td> 0.588</td></tr>\n",
              "\t<tr><th scope=row>28</th><td>5.188</td><td>5.2</td><td>-0.012</td></tr>\n",
              "</tbody>\n",
              "</table>\n"
            ],
            "text/markdown": "\nA matrix: 6 × 3 of type dbl\n\n| <!--/--> | predicao_ajustada | <!----> | <!----> |\n|---|---|---|---|\n| 7 | 5.188 | 4.6 |  0.588 |\n| 11 | 5.188 | 5.4 | -0.212 |\n| 12 | 5.188 | 4.8 |  0.388 |\n| 19 | 5.188 | 5.7 | -0.512 |\n| 23 | 5.188 | 4.6 |  0.588 |\n| 28 | 5.188 | 5.2 | -0.012 |\n\n",
            "text/latex": "A matrix: 6 × 3 of type dbl\n\\begin{tabular}{r|lll}\n  & predicao\\_ajustada &  & \\\\\n\\hline\n\t7 & 5.188 & 4.6 &  0.588\\\\\n\t11 & 5.188 & 5.4 & -0.212\\\\\n\t12 & 5.188 & 4.8 &  0.388\\\\\n\t19 & 5.188 & 5.7 & -0.512\\\\\n\t23 & 5.188 & 4.6 &  0.588\\\\\n\t28 & 5.188 & 5.2 & -0.012\\\\\n\\end{tabular}\n",
            "text/plain": [
              "   predicao_ajustada           \n",
              "7  5.188             4.6  0.588\n",
              "11 5.188             5.4 -0.212\n",
              "12 5.188             4.8  0.388\n",
              "19 5.188             5.7 -0.512\n",
              "23 5.188             4.6  0.588\n",
              "28 5.188             5.2 -0.012"
            ]
          },
          "metadata": {}
        }
      ]
    },
    {
      "cell_type": "code",
      "source": [
        "# metricas\n",
        "accuracy(predicao_ajustada, dados_teste$Sepal.Length)"
      ],
      "metadata": {
        "colab": {
          "base_uri": "https://localhost:8080/",
          "height": 98
        },
        "id": "uclTCSNTOiMH",
        "outputId": "4ea2908a-ce45-4508-f8d2-e0d8ed85e219"
      },
      "execution_count": 22,
      "outputs": [
        {
          "output_type": "display_data",
          "data": {
            "text/html": [
              "<table class=\"dataframe\">\n",
              "<caption>A matrix: 1 × 5 of type dbl</caption>\n",
              "<thead>\n",
              "\t<tr><th></th><th scope=col>ME</th><th scope=col>RMSE</th><th scope=col>MAE</th><th scope=col>MPE</th><th scope=col>MAPE</th></tr>\n",
              "</thead>\n",
              "<tbody>\n",
              "\t<tr><th scope=row>Test set</th><td>0.02974214</td><td>0.3824413</td><td>0.316797</td><td>0.05057544</td><td>5.390104</td></tr>\n",
              "</tbody>\n",
              "</table>\n"
            ],
            "text/markdown": "\nA matrix: 1 × 5 of type dbl\n\n| <!--/--> | ME | RMSE | MAE | MPE | MAPE |\n|---|---|---|---|---|---|\n| Test set | 0.02974214 | 0.3824413 | 0.316797 | 0.05057544 | 5.390104 |\n\n",
            "text/latex": "A matrix: 1 × 5 of type dbl\n\\begin{tabular}{r|lllll}\n  & ME & RMSE & MAE & MPE & MAPE\\\\\n\\hline\n\tTest set & 0.02974214 & 0.3824413 & 0.316797 & 0.05057544 & 5.390104\\\\\n\\end{tabular}\n",
            "text/plain": [
              "         ME         RMSE      MAE      MPE        MAPE    \n",
              "Test set 0.02974214 0.3824413 0.316797 0.05057544 5.390104"
            ]
          },
          "metadata": {}
        }
      ]
    },
    {
      "cell_type": "markdown",
      "source": [
        "Agora com hiperparametros ajustados os resultados são bem positivos e indicam que o modelo está fazendo boas previsões, com ME em equilibrio, RSME e MAE baixos o que sugere previsoes mais precisas e MPE e MAPE pequenos indicando um desempenho favorável em termos de previsões percentuais."
      ],
      "metadata": {
        "id": "QkgFnCC9PHQV"
      }
    }
  ]
}