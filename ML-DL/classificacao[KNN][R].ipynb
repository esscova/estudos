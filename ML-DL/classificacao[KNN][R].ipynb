{
  "nbformat": 4,
  "nbformat_minor": 0,
  "metadata": {
    "colab": {
      "provenance": []
    },
    "kernelspec": {
      "name": "ir",
      "display_name": "R"
    },
    "language_info": {
      "name": "R"
    }
  },
  "cells": [
    {
      "cell_type": "markdown",
      "source": [
        "# Classificação com KNN e dataset Iris em R\n",
        "\n",
        "O aprendizado de máquina baseado em instâncias, como o KNN, oferece uma abordagem poderosa para a modelagem preditiva, especialmente quando as relações entre as variáveis são complexas e difíceis de serem capturadas por modelos paramétricos."
      ],
      "metadata": {
        "id": "GZLV_6l1uLE_"
      }
    },
    {
      "cell_type": "code",
      "execution_count": 2,
      "metadata": {
        "colab": {
          "base_uri": "https://localhost:8080/"
        },
        "id": "GyzbV2epuKfn",
        "outputId": "c2f91a99-96d8-462c-815d-3826d2e562c1"
      },
      "outputs": [
        {
          "output_type": "stream",
          "name": "stderr",
          "text": [
            "Installing package into ‘/usr/local/lib/R/site-library’\n",
            "(as ‘lib’ is unspecified)\n",
            "\n"
          ]
        }
      ],
      "source": [
        "# bibliotecas\n",
        "install.packages(\"FNN\")\n",
        "library(FNN)"
      ]
    },
    {
      "cell_type": "code",
      "source": [
        "# carregando dados\n",
        "data(iris)"
      ],
      "metadata": {
        "id": "RPYFLQnGubmD"
      },
      "execution_count": 3,
      "outputs": []
    },
    {
      "cell_type": "code",
      "source": [
        "# divisao treino e teste\n",
        "set.seed(123)\n",
        "indices_treinamento <- sample(1:nrow(iris), 0.7 * nrow(iris))\n",
        "treinamento <- iris[indices_treinamento, ]\n",
        "teste <- iris[-indices_treinamento, ]"
      ],
      "metadata": {
        "id": "YLnSEOpqukbD"
      },
      "execution_count": 4,
      "outputs": []
    },
    {
      "cell_type": "code",
      "source": [
        "# pre processamento para modelo\n",
        "treinamento$SpeciesNum <- as.numeric(factor(treinamento$Species))\n",
        "teste$SpeciesNum <- as.numeric(factor(teste$Species))"
      ],
      "metadata": {
        "id": "ClJ3CgoGzhVA"
      },
      "execution_count": 15,
      "outputs": []
    },
    {
      "cell_type": "code",
      "source": [
        "# modelo knn\n",
        "k <- 3 # numero de vizinhos\n",
        "modelo_knn <- knn.reg(\n",
        "  train = treinamento[, -5],\n",
        "  test = teste[, -5],\n",
        "  y = treinamento$SpeciesNum,\n",
        "  k=k)\n",
        ""
      ],
      "metadata": {
        "id": "nCv4Z15Hu_-J"
      },
      "execution_count": 16,
      "outputs": []
    },
    {
      "cell_type": "code",
      "source": [
        "# previsoes\n",
        "previsoes <- modelo_knn$pred\n",
        "\n",
        "acuracia <- sum(previsoes == teste$SpeciesNum)/nrow(teste)\n",
        "acuracia"
      ],
      "metadata": {
        "colab": {
          "base_uri": "https://localhost:8080/",
          "height": 34
        },
        "id": "y06TLpntveNK",
        "outputId": "b4148056-5116-47f3-f37d-49d48050c6c0"
      },
      "execution_count": 18,
      "outputs": [
        {
          "output_type": "display_data",
          "data": {
            "text/html": [
              "1"
            ],
            "text/markdown": "1",
            "text/latex": "1",
            "text/plain": [
              "[1] 1"
            ]
          },
          "metadata": {}
        }
      ]
    }
  ]
}