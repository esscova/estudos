{
  "nbformat": 4,
  "nbformat_minor": 0,
  "metadata": {
    "colab": {
      "provenance": []
    },
    "kernelspec": {
      "name": "ir",
      "display_name": "R"
    },
    "language_info": {
      "name": "R"
    }
  },
  "cells": [
    {
      "cell_type": "markdown",
      "source": [],
      "metadata": {
        "id": "XlFasCALyjeH"
      }
    },
    {
      "cell_type": "code",
      "execution_count": null,
      "metadata": {
        "id": "JwzA2tz3ygYR"
      },
      "outputs": [],
      "source": [
        "library(rpart)"
      ]
    },
    {
      "cell_type": "code",
      "source": [
        "# carregando dados\n",
        "dados <- read.csv('/content/Credit.csv')\n",
        "head(dados)"
      ],
      "metadata": {
        "colab": {
          "base_uri": "https://localhost:8080/",
          "height": 411
        },
        "id": "-fQ5lhkuzJvK",
        "outputId": "1b75205b-6476-4046-b5fb-d3166e9e313f"
      },
      "execution_count": null,
      "outputs": [
        {
          "output_type": "display_data",
          "data": {
            "text/html": [
              "<table class=\"dataframe\">\n",
              "<caption>A data.frame: 6 × 21</caption>\n",
              "<thead>\n",
              "\t<tr><th></th><th scope=col>checking_status</th><th scope=col>duration</th><th scope=col>credit_history</th><th scope=col>purpose</th><th scope=col>credit_amount</th><th scope=col>savings_status</th><th scope=col>employment</th><th scope=col>installment_commitment</th><th scope=col>personal_status</th><th scope=col>other_parties</th><th scope=col>⋯</th><th scope=col>property_magnitude</th><th scope=col>age</th><th scope=col>other_payment_plans</th><th scope=col>housing</th><th scope=col>existing_credits</th><th scope=col>job</th><th scope=col>num_dependents</th><th scope=col>own_telephone</th><th scope=col>foreign_worker</th><th scope=col>class</th></tr>\n",
              "\t<tr><th></th><th scope=col>&lt;chr&gt;</th><th scope=col>&lt;int&gt;</th><th scope=col>&lt;chr&gt;</th><th scope=col>&lt;chr&gt;</th><th scope=col>&lt;int&gt;</th><th scope=col>&lt;chr&gt;</th><th scope=col>&lt;chr&gt;</th><th scope=col>&lt;int&gt;</th><th scope=col>&lt;chr&gt;</th><th scope=col>&lt;chr&gt;</th><th scope=col>⋯</th><th scope=col>&lt;chr&gt;</th><th scope=col>&lt;int&gt;</th><th scope=col>&lt;chr&gt;</th><th scope=col>&lt;chr&gt;</th><th scope=col>&lt;int&gt;</th><th scope=col>&lt;chr&gt;</th><th scope=col>&lt;int&gt;</th><th scope=col>&lt;chr&gt;</th><th scope=col>&lt;chr&gt;</th><th scope=col>&lt;chr&gt;</th></tr>\n",
              "</thead>\n",
              "<tbody>\n",
              "\t<tr><th scope=row>1</th><td><span style=white-space:pre-wrap>&lt;0           </span></td><td> 6</td><td>'critical/other existing credit'</td><td><span style=white-space:pre-wrap>radio/tv           </span></td><td>1169</td><td>'no known savings'</td><td><span style=white-space:pre-wrap>&gt;=7   </span></td><td>4</td><td><span style=white-space:pre-wrap>'male single'       </span></td><td><span style=white-space:pre-wrap>none     </span></td><td>⋯</td><td><span style=white-space:pre-wrap>'real estate'      </span></td><td>67</td><td>none</td><td><span style=white-space:pre-wrap>own       </span></td><td>2</td><td><span style=white-space:pre-wrap>skilled             </span></td><td>1</td><td>yes </td><td>yes</td><td>good</td></tr>\n",
              "\t<tr><th scope=row>2</th><td><span style=white-space:pre-wrap>0&lt;=X&lt;200     </span></td><td>48</td><td><span style=white-space:pre-wrap>'existing paid'                 </span></td><td><span style=white-space:pre-wrap>radio/tv           </span></td><td>5951</td><td><span style=white-space:pre-wrap>&lt;100              </span></td><td>1&lt;=X&lt;4</td><td>2</td><td>'female div/dep/mar'</td><td><span style=white-space:pre-wrap>none     </span></td><td>⋯</td><td><span style=white-space:pre-wrap>'real estate'      </span></td><td>22</td><td>none</td><td><span style=white-space:pre-wrap>own       </span></td><td>1</td><td><span style=white-space:pre-wrap>skilled             </span></td><td>1</td><td>none</td><td>yes</td><td>bad </td></tr>\n",
              "\t<tr><th scope=row>3</th><td>'no checking'</td><td>12</td><td>'critical/other existing credit'</td><td><span style=white-space:pre-wrap>education          </span></td><td>2096</td><td><span style=white-space:pre-wrap>&lt;100              </span></td><td>4&lt;=X&lt;7</td><td>2</td><td><span style=white-space:pre-wrap>'male single'       </span></td><td><span style=white-space:pre-wrap>none     </span></td><td>⋯</td><td><span style=white-space:pre-wrap>'real estate'      </span></td><td>49</td><td>none</td><td><span style=white-space:pre-wrap>own       </span></td><td>1</td><td>'unskilled resident'</td><td>2</td><td>none</td><td>yes</td><td>good</td></tr>\n",
              "\t<tr><th scope=row>4</th><td><span style=white-space:pre-wrap>&lt;0           </span></td><td>42</td><td><span style=white-space:pre-wrap>'existing paid'                 </span></td><td>furniture/equipment</td><td>7882</td><td><span style=white-space:pre-wrap>&lt;100              </span></td><td>4&lt;=X&lt;7</td><td>2</td><td><span style=white-space:pre-wrap>'male single'       </span></td><td>guarantor</td><td>⋯</td><td><span style=white-space:pre-wrap>'life insurance'   </span></td><td>45</td><td>none</td><td>'for free'</td><td>1</td><td><span style=white-space:pre-wrap>skilled             </span></td><td>2</td><td>none</td><td>yes</td><td>good</td></tr>\n",
              "\t<tr><th scope=row>5</th><td><span style=white-space:pre-wrap>&lt;0           </span></td><td>24</td><td><span style=white-space:pre-wrap>'delayed previously'            </span></td><td><span style=white-space:pre-wrap>'new car'          </span></td><td>4870</td><td><span style=white-space:pre-wrap>&lt;100              </span></td><td>1&lt;=X&lt;4</td><td>3</td><td><span style=white-space:pre-wrap>'male single'       </span></td><td><span style=white-space:pre-wrap>none     </span></td><td>⋯</td><td>'no known property'</td><td>53</td><td>none</td><td>'for free'</td><td>2</td><td><span style=white-space:pre-wrap>skilled             </span></td><td>2</td><td>none</td><td>yes</td><td>bad </td></tr>\n",
              "\t<tr><th scope=row>6</th><td>'no checking'</td><td>36</td><td><span style=white-space:pre-wrap>'existing paid'                 </span></td><td><span style=white-space:pre-wrap>education          </span></td><td>9055</td><td>'no known savings'</td><td>1&lt;=X&lt;4</td><td>2</td><td><span style=white-space:pre-wrap>'male single'       </span></td><td><span style=white-space:pre-wrap>none     </span></td><td>⋯</td><td>'no known property'</td><td>35</td><td>none</td><td>'for free'</td><td>1</td><td>'unskilled resident'</td><td>2</td><td>yes </td><td>yes</td><td>good</td></tr>\n",
              "</tbody>\n",
              "</table>\n"
            ],
            "text/markdown": "\nA data.frame: 6 × 21\n\n| <!--/--> | checking_status &lt;chr&gt; | duration &lt;int&gt; | credit_history &lt;chr&gt; | purpose &lt;chr&gt; | credit_amount &lt;int&gt; | savings_status &lt;chr&gt; | employment &lt;chr&gt; | installment_commitment &lt;int&gt; | personal_status &lt;chr&gt; | other_parties &lt;chr&gt; | ⋯ ⋯ | property_magnitude &lt;chr&gt; | age &lt;int&gt; | other_payment_plans &lt;chr&gt; | housing &lt;chr&gt; | existing_credits &lt;int&gt; | job &lt;chr&gt; | num_dependents &lt;int&gt; | own_telephone &lt;chr&gt; | foreign_worker &lt;chr&gt; | class &lt;chr&gt; |\n|---|---|---|---|---|---|---|---|---|---|---|---|---|---|---|---|---|---|---|---|---|---|\n| 1 | &lt;0            |  6 | 'critical/other existing credit' | radio/tv            | 1169 | 'no known savings' | &gt;=7    | 4 | 'male single'        | none      | ⋯ | 'real estate'       | 67 | none | own        | 2 | skilled              | 1 | yes  | yes | good |\n| 2 | 0&lt;=X&lt;200      | 48 | 'existing paid'                  | radio/tv            | 5951 | &lt;100               | 1&lt;=X&lt;4 | 2 | 'female div/dep/mar' | none      | ⋯ | 'real estate'       | 22 | none | own        | 1 | skilled              | 1 | none | yes | bad  |\n| 3 | 'no checking' | 12 | 'critical/other existing credit' | education           | 2096 | &lt;100               | 4&lt;=X&lt;7 | 2 | 'male single'        | none      | ⋯ | 'real estate'       | 49 | none | own        | 1 | 'unskilled resident' | 2 | none | yes | good |\n| 4 | &lt;0            | 42 | 'existing paid'                  | furniture/equipment | 7882 | &lt;100               | 4&lt;=X&lt;7 | 2 | 'male single'        | guarantor | ⋯ | 'life insurance'    | 45 | none | 'for free' | 1 | skilled              | 2 | none | yes | good |\n| 5 | &lt;0            | 24 | 'delayed previously'             | 'new car'           | 4870 | &lt;100               | 1&lt;=X&lt;4 | 3 | 'male single'        | none      | ⋯ | 'no known property' | 53 | none | 'for free' | 2 | skilled              | 2 | none | yes | bad  |\n| 6 | 'no checking' | 36 | 'existing paid'                  | education           | 9055 | 'no known savings' | 1&lt;=X&lt;4 | 2 | 'male single'        | none      | ⋯ | 'no known property' | 35 | none | 'for free' | 1 | 'unskilled resident' | 2 | yes  | yes | good |\n\n",
            "text/latex": "A data.frame: 6 × 21\n\\begin{tabular}{r|lllllllllllllllllllll}\n  & checking\\_status & duration & credit\\_history & purpose & credit\\_amount & savings\\_status & employment & installment\\_commitment & personal\\_status & other\\_parties & ⋯ & property\\_magnitude & age & other\\_payment\\_plans & housing & existing\\_credits & job & num\\_dependents & own\\_telephone & foreign\\_worker & class\\\\\n  & <chr> & <int> & <chr> & <chr> & <int> & <chr> & <chr> & <int> & <chr> & <chr> & ⋯ & <chr> & <int> & <chr> & <chr> & <int> & <chr> & <int> & <chr> & <chr> & <chr>\\\\\n\\hline\n\t1 & <0            &  6 & 'critical/other existing credit' & radio/tv            & 1169 & 'no known savings' & >=7    & 4 & 'male single'        & none      & ⋯ & 'real estate'       & 67 & none & own        & 2 & skilled              & 1 & yes  & yes & good\\\\\n\t2 & 0<=X<200      & 48 & 'existing paid'                  & radio/tv            & 5951 & <100               & 1<=X<4 & 2 & 'female div/dep/mar' & none      & ⋯ & 'real estate'       & 22 & none & own        & 1 & skilled              & 1 & none & yes & bad \\\\\n\t3 & 'no checking' & 12 & 'critical/other existing credit' & education           & 2096 & <100               & 4<=X<7 & 2 & 'male single'        & none      & ⋯ & 'real estate'       & 49 & none & own        & 1 & 'unskilled resident' & 2 & none & yes & good\\\\\n\t4 & <0            & 42 & 'existing paid'                  & furniture/equipment & 7882 & <100               & 4<=X<7 & 2 & 'male single'        & guarantor & ⋯ & 'life insurance'    & 45 & none & 'for free' & 1 & skilled              & 2 & none & yes & good\\\\\n\t5 & <0            & 24 & 'delayed previously'             & 'new car'           & 4870 & <100               & 1<=X<4 & 3 & 'male single'        & none      & ⋯ & 'no known property' & 53 & none & 'for free' & 2 & skilled              & 2 & none & yes & bad \\\\\n\t6 & 'no checking' & 36 & 'existing paid'                  & education           & 9055 & 'no known savings' & 1<=X<4 & 2 & 'male single'        & none      & ⋯ & 'no known property' & 35 & none & 'for free' & 1 & 'unskilled resident' & 2 & yes  & yes & good\\\\\n\\end{tabular}\n",
            "text/plain": [
              "  checking_status duration credit_history                   purpose            \n",
              "1 <0               6       'critical/other existing credit' radio/tv           \n",
              "2 0<=X<200        48       'existing paid'                  radio/tv           \n",
              "3 'no checking'   12       'critical/other existing credit' education          \n",
              "4 <0              42       'existing paid'                  furniture/equipment\n",
              "5 <0              24       'delayed previously'             'new car'          \n",
              "6 'no checking'   36       'existing paid'                  education          \n",
              "  credit_amount savings_status     employment installment_commitment\n",
              "1 1169          'no known savings' >=7        4                     \n",
              "2 5951          <100               1<=X<4     2                     \n",
              "3 2096          <100               4<=X<7     2                     \n",
              "4 7882          <100               4<=X<7     2                     \n",
              "5 4870          <100               1<=X<4     3                     \n",
              "6 9055          'no known savings' 1<=X<4     2                     \n",
              "  personal_status      other_parties ⋯ property_magnitude  age\n",
              "1 'male single'        none          ⋯ 'real estate'       67 \n",
              "2 'female div/dep/mar' none          ⋯ 'real estate'       22 \n",
              "3 'male single'        none          ⋯ 'real estate'       49 \n",
              "4 'male single'        guarantor     ⋯ 'life insurance'    45 \n",
              "5 'male single'        none          ⋯ 'no known property' 53 \n",
              "6 'male single'        none          ⋯ 'no known property' 35 \n",
              "  other_payment_plans housing    existing_credits job                 \n",
              "1 none                own        2                skilled             \n",
              "2 none                own        1                skilled             \n",
              "3 none                own        1                'unskilled resident'\n",
              "4 none                'for free' 1                skilled             \n",
              "5 none                'for free' 2                skilled             \n",
              "6 none                'for free' 1                'unskilled resident'\n",
              "  num_dependents own_telephone foreign_worker class\n",
              "1 1              yes           yes            good \n",
              "2 1              none          yes            bad  \n",
              "3 2              none          yes            good \n",
              "4 2              none          yes            good \n",
              "5 2              none          yes            bad  \n",
              "6 2              yes           yes            good "
            ]
          },
          "metadata": {}
        }
      ]
    },
    {
      "cell_type": "code",
      "source": [
        "# dimensoes do dataframe\n",
        "dim(dados)"
      ],
      "metadata": {
        "colab": {
          "base_uri": "https://localhost:8080/",
          "height": 34
        },
        "id": "IHsla3cizl08",
        "outputId": "07a3dce3-50f6-4cc5-cdc9-d3c7787913eb"
      },
      "execution_count": null,
      "outputs": [
        {
          "output_type": "display_data",
          "data": {
            "text/html": [
              "<style>\n",
              ".list-inline {list-style: none; margin:0; padding: 0}\n",
              ".list-inline>li {display: inline-block}\n",
              ".list-inline>li:not(:last-child)::after {content: \"\\00b7\"; padding: 0 .5ex}\n",
              "</style>\n",
              "<ol class=list-inline><li>1000</li><li>21</li></ol>\n"
            ],
            "text/markdown": "1. 1000\n2. 21\n\n\n",
            "text/latex": "\\begin{enumerate*}\n\\item 1000\n\\item 21\n\\end{enumerate*}\n",
            "text/plain": [
              "[1] 1000   21"
            ]
          },
          "metadata": {}
        }
      ]
    },
    {
      "cell_type": "code",
      "source": [
        "# descricao dos dados\n",
        "summary(dados)"
      ],
      "metadata": {
        "colab": {
          "base_uri": "https://localhost:8080/",
          "height": 746
        },
        "id": "y8edPMixzZ8R",
        "outputId": "dc467237-c64b-4ce0-e112-a3612533440f"
      },
      "execution_count": null,
      "outputs": [
        {
          "output_type": "display_data",
          "data": {
            "text/plain": [
              " checking_status       duration    credit_history       purpose         \n",
              " Length:1000        Min.   : 4.0   Length:1000        Length:1000       \n",
              " Class :character   1st Qu.:12.0   Class :character   Class :character  \n",
              " Mode  :character   Median :18.0   Mode  :character   Mode  :character  \n",
              "                    Mean   :20.9                                        \n",
              "                    3rd Qu.:24.0                                        \n",
              "                    Max.   :72.0                                        \n",
              " credit_amount   savings_status      employment        installment_commitment\n",
              " Min.   :  250   Length:1000        Length:1000        Min.   :1.000         \n",
              " 1st Qu.: 1366   Class :character   Class :character   1st Qu.:2.000         \n",
              " Median : 2320   Mode  :character   Mode  :character   Median :3.000         \n",
              " Mean   : 3271                                         Mean   :2.973         \n",
              " 3rd Qu.: 3972                                         3rd Qu.:4.000         \n",
              " Max.   :18424                                         Max.   :4.000         \n",
              " personal_status    other_parties      residence_since property_magnitude\n",
              " Length:1000        Length:1000        Min.   :1.000   Length:1000       \n",
              " Class :character   Class :character   1st Qu.:2.000   Class :character  \n",
              " Mode  :character   Mode  :character   Median :3.000   Mode  :character  \n",
              "                                       Mean   :2.845                     \n",
              "                                       3rd Qu.:4.000                     \n",
              "                                       Max.   :4.000                     \n",
              "      age        other_payment_plans   housing          existing_credits\n",
              " Min.   :19.00   Length:1000         Length:1000        Min.   :1.000   \n",
              " 1st Qu.:27.00   Class :character    Class :character   1st Qu.:1.000   \n",
              " Median :33.00   Mode  :character    Mode  :character   Median :1.000   \n",
              " Mean   :35.55                                          Mean   :1.407   \n",
              " 3rd Qu.:42.00                                          3rd Qu.:2.000   \n",
              " Max.   :75.00                                          Max.   :4.000   \n",
              "     job            num_dependents  own_telephone      foreign_worker    \n",
              " Length:1000        Min.   :1.000   Length:1000        Length:1000       \n",
              " Class :character   1st Qu.:1.000   Class :character   Class :character  \n",
              " Mode  :character   Median :1.000   Mode  :character   Mode  :character  \n",
              "                    Mean   :1.155                                        \n",
              "                    3rd Qu.:1.000                                        \n",
              "                    Max.   :2.000                                        \n",
              "    class          \n",
              " Length:1000       \n",
              " Class :character  \n",
              " Mode  :character  \n",
              "                   \n",
              "                   \n",
              "                   "
            ]
          },
          "metadata": {}
        }
      ]
    },
    {
      "cell_type": "code",
      "source": [
        "head(dados$class)"
      ],
      "metadata": {
        "colab": {
          "base_uri": "https://localhost:8080/",
          "height": 34
        },
        "id": "gZciUoOl0TGn",
        "outputId": "33ede20b-a4fb-4d97-a71f-16d13c9df5aa"
      },
      "execution_count": null,
      "outputs": [
        {
          "output_type": "display_data",
          "data": {
            "text/html": [
              "<style>\n",
              ".list-inline {list-style: none; margin:0; padding: 0}\n",
              ".list-inline>li {display: inline-block}\n",
              ".list-inline>li:not(:last-child)::after {content: \"\\00b7\"; padding: 0 .5ex}\n",
              "</style>\n",
              "<ol class=list-inline><li>'good'</li><li>'bad'</li><li>'good'</li><li>'good'</li><li>'bad'</li><li>'good'</li></ol>\n"
            ],
            "text/markdown": "1. 'good'\n2. 'bad'\n3. 'good'\n4. 'good'\n5. 'bad'\n6. 'good'\n\n\n",
            "text/latex": "\\begin{enumerate*}\n\\item 'good'\n\\item 'bad'\n\\item 'good'\n\\item 'good'\n\\item 'bad'\n\\item 'good'\n\\end{enumerate*}\n",
            "text/plain": [
              "[1] \"good\" \"bad\"  \"good\" \"good\" \"bad\"  \"good\""
            ]
          },
          "metadata": {}
        }
      ]
    },
    {
      "cell_type": "code",
      "source": [
        "# preparando dados para modelo\n",
        "amostra <- sample(2, 1000, replace=T, prob=c(0.7,0.3))\n",
        "\n",
        "X_train <- dados[amostra==1,]\n",
        "X_test <- dados[amostra==2,]"
      ],
      "metadata": {
        "id": "HeEeG_P2zqmD"
      },
      "execution_count": null,
      "outputs": []
    },
    {
      "cell_type": "code",
      "source": [
        "# modelo\n",
        "modelo <- rpart(class ~ ., data=X_train, method = 'class')\n",
        "print(modelo)"
      ],
      "metadata": {
        "colab": {
          "base_uri": "https://localhost:8080/"
        },
        "id": "-rZMkYxu0l6g",
        "outputId": "c666516c-61db-427b-8622-865f57d2f360"
      },
      "execution_count": null,
      "outputs": [
        {
          "output_type": "stream",
          "name": "stdout",
          "text": [
            "n= 701 \n",
            "\n",
            "node), split, n, loss, yval, (yprob)\n",
            "      * denotes terminal node\n",
            "\n",
            " 1) root 701 221 good (0.3152639 0.6847361)  \n",
            "   2) checking_status=<0,0<=X<200 377 177 good (0.4694960 0.5305040)  \n",
            "     4) credit_history='all paid','no credits/all paid' 46  11 bad (0.7608696 0.2391304) *\n",
            "     5) credit_history='critical/other existing credit','delayed previously','existing paid' 331 142 good (0.4290030 0.5709970)  \n",
            "      10) duration>=22.5 135  60 bad (0.5555556 0.4444444)  \n",
            "        20) purpose='domestic appliance','new car',education,radio/tv 71  22 bad (0.6901408 0.3098592)  \n",
            "          40) checking_status=<0 35   5 bad (0.8571429 0.1428571) *\n",
            "          41) checking_status=0<=X<200 36  17 bad (0.5277778 0.4722222)  \n",
            "            82) duration>=27 25   8 bad (0.6800000 0.3200000) *\n",
            "            83) duration< 27 11   2 good (0.1818182 0.8181818) *\n",
            "        21) purpose='used car',business,furniture/equipment,other 64  26 good (0.4062500 0.5937500)  \n",
            "          42) credit_amount>=8097.5 11   2 bad (0.8181818 0.1818182) *\n",
            "          43) credit_amount< 8097.5 53  17 good (0.3207547 0.6792453)  \n",
            "            86) personal_status='female div/dep/mar','male div/sep' 23  10 bad (0.5652174 0.4347826) *\n",
            "            87) personal_status='male mar/wid','male single' 30   4 good (0.1333333 0.8666667) *\n",
            "      11) duration< 22.5 196  67 good (0.3418367 0.6581633)  \n",
            "        22) checking_status=<0 95  42 good (0.4421053 0.5578947)  \n",
            "          44) purpose='domestic appliance',education,retraining 12   3 bad (0.7500000 0.2500000) *\n",
            "          45) purpose='new car','used car',business,furniture/equipment,radio/tv,repairs 83  33 good (0.3975904 0.6024096)  \n",
            "            90) credit_amount>=3932 10   3 bad (0.7000000 0.3000000) *\n",
            "            91) credit_amount< 3932 73  26 good (0.3561644 0.6438356) *\n",
            "        23) checking_status=0<=X<200 101  25 good (0.2475248 0.7524752) *\n",
            "   3) checking_status='no checking',>=200 324  44 good (0.1358025 0.8641975) *\n"
          ]
        }
      ]
    },
    {
      "cell_type": "code",
      "source": [
        "# visualizando arvore de decisao\n",
        "plot(modelo)\n",
        "text(modelo, use.n = T, all = T, cex = .8)"
      ],
      "metadata": {
        "colab": {
          "base_uri": "https://localhost:8080/",
          "height": 437
        },
        "id": "vVYU6xYh07tr",
        "outputId": "965d72ea-5cf1-4a1a-9a30-bc9ef6fa5040"
      },
      "execution_count": null,
      "outputs": [
        {
          "output_type": "display_data",
          "data": {
            "text/plain": [
              "plot without title"
            ],
            "image/png": "[encoded data removed]"
          },
          "metadata": {
            "image/png": {
              "width": 420,
              "height": 420
            }
          }
        }
      ]
    },
    {
      "cell_type": "code",
      "source": [
        "# previsoes do modelo\n",
        "y_pred <- predict(modelo, newdata = X_test)\n",
        "head(y_pred)"
      ],
      "metadata": {
        "colab": {
          "base_uri": "https://localhost:8080/",
          "height": 255
        },
        "id": "ncbHdjK71SCf",
        "outputId": "0fcb5abe-e079-4e0e-b180-998f32b7a5cc"
      },
      "execution_count": null,
      "outputs": [
        {
          "output_type": "display_data",
          "data": {
            "text/html": [
              "<table class=\"dataframe\">\n",
              "<caption>A matrix: 6 × 2 of type dbl</caption>\n",
              "<thead>\n",
              "\t<tr><th></th><th scope=col>bad</th><th scope=col>good</th></tr>\n",
              "</thead>\n",
              "<tbody>\n",
              "\t<tr><th scope=row>18</th><td>0.7608696</td><td>0.2391304</td></tr>\n",
              "\t<tr><th scope=row>19</th><td>0.8181818</td><td>0.1818182</td></tr>\n",
              "\t<tr><th scope=row>20</th><td>0.1358025</td><td>0.8641975</td></tr>\n",
              "\t<tr><th scope=row>21</th><td>0.1358025</td><td>0.8641975</td></tr>\n",
              "\t<tr><th scope=row>23</th><td>0.3561644</td><td>0.6438356</td></tr>\n",
              "\t<tr><th scope=row>30</th><td>0.1333333</td><td>0.8666667</td></tr>\n",
              "</tbody>\n",
              "</table>\n"
            ],
            "text/markdown": "\nA matrix: 6 × 2 of type dbl\n\n| <!--/--> | bad | good |\n|---|---|---|\n| 18 | 0.7608696 | 0.2391304 |\n| 19 | 0.8181818 | 0.1818182 |\n| 20 | 0.1358025 | 0.8641975 |\n| 21 | 0.1358025 | 0.8641975 |\n| 23 | 0.3561644 | 0.6438356 |\n| 30 | 0.1333333 | 0.8666667 |\n\n",
            "text/latex": "A matrix: 6 × 2 of type dbl\n\\begin{tabular}{r|ll}\n  & bad & good\\\\\n\\hline\n\t18 & 0.7608696 & 0.2391304\\\\\n\t19 & 0.8181818 & 0.1818182\\\\\n\t20 & 0.1358025 & 0.8641975\\\\\n\t21 & 0.1358025 & 0.8641975\\\\\n\t23 & 0.3561644 & 0.6438356\\\\\n\t30 & 0.1333333 & 0.8666667\\\\\n\\end{tabular}\n",
            "text/plain": [
              "   bad       good     \n",
              "18 0.7608696 0.2391304\n",
              "19 0.8181818 0.1818182\n",
              "20 0.1358025 0.8641975\n",
              "21 0.1358025 0.8641975\n",
              "23 0.3561644 0.6438356\n",
              "30 0.1333333 0.8666667"
            ]
          },
          "metadata": {}
        }
      ]
    },
    {
      "cell_type": "code",
      "source": [
        "# coluna com restultados da previsao nos dados de teste\n",
        "cred = cbind(X_test, y_pred)\n",
        "head(cred)"
      ],
      "metadata": {
        "colab": {
          "base_uri": "https://localhost:8080/",
          "height": 428
        },
        "id": "ycUITa_F15Fc",
        "outputId": "0dd37033-97e4-4331-8565-4fc58363d4d8"
      },
      "execution_count": null,
      "outputs": [
        {
          "output_type": "display_data",
          "data": {
            "text/html": [
              "<table class=\"dataframe\">\n",
              "<caption>A data.frame: 6 × 23</caption>\n",
              "<thead>\n",
              "\t<tr><th></th><th scope=col>checking_status</th><th scope=col>duration</th><th scope=col>credit_history</th><th scope=col>purpose</th><th scope=col>credit_amount</th><th scope=col>savings_status</th><th scope=col>employment</th><th scope=col>installment_commitment</th><th scope=col>personal_status</th><th scope=col>other_parties</th><th scope=col>⋯</th><th scope=col>other_payment_plans</th><th scope=col>housing</th><th scope=col>existing_credits</th><th scope=col>job</th><th scope=col>num_dependents</th><th scope=col>own_telephone</th><th scope=col>foreign_worker</th><th scope=col>class</th><th scope=col>bad</th><th scope=col>good</th></tr>\n",
              "\t<tr><th></th><th scope=col>&lt;chr&gt;</th><th scope=col>&lt;int&gt;</th><th scope=col>&lt;chr&gt;</th><th scope=col>&lt;chr&gt;</th><th scope=col>&lt;int&gt;</th><th scope=col>&lt;chr&gt;</th><th scope=col>&lt;chr&gt;</th><th scope=col>&lt;int&gt;</th><th scope=col>&lt;chr&gt;</th><th scope=col>&lt;chr&gt;</th><th scope=col>⋯</th><th scope=col>&lt;chr&gt;</th><th scope=col>&lt;chr&gt;</th><th scope=col>&lt;int&gt;</th><th scope=col>&lt;chr&gt;</th><th scope=col>&lt;int&gt;</th><th scope=col>&lt;chr&gt;</th><th scope=col>&lt;chr&gt;</th><th scope=col>&lt;chr&gt;</th><th scope=col>&lt;dbl&gt;</th><th scope=col>&lt;dbl&gt;</th></tr>\n",
              "</thead>\n",
              "<tbody>\n",
              "\t<tr><th scope=row>18</th><td><span style=white-space:pre-wrap>&lt;0           </span></td><td>30</td><td><span style=white-space:pre-wrap>'no credits/all paid'           </span></td><td><span style=white-space:pre-wrap>business  </span></td><td> 8072</td><td>'no known savings'</td><td><span style=white-space:pre-wrap>&lt;1    </span></td><td>2</td><td><span style=white-space:pre-wrap>'male single'       </span></td><td>none</td><td>⋯</td><td>bank</td><td><span style=white-space:pre-wrap>own       </span></td><td>3</td><td><span style=white-space:pre-wrap>skilled                    </span></td><td>1</td><td>none</td><td>yes</td><td>good</td><td>0.7608696</td><td>0.2391304</td></tr>\n",
              "\t<tr><th scope=row>19</th><td><span style=white-space:pre-wrap>0&lt;=X&lt;200     </span></td><td>24</td><td><span style=white-space:pre-wrap>'existing paid'                 </span></td><td>'used car'</td><td>12579</td><td><span style=white-space:pre-wrap>&lt;100              </span></td><td><span style=white-space:pre-wrap>&gt;=7   </span></td><td>4</td><td>'female div/dep/mar'</td><td>none</td><td>⋯</td><td>none</td><td>'for free'</td><td>1</td><td>'high qualif/self emp/mgmt'</td><td>1</td><td>yes </td><td>yes</td><td>bad </td><td>0.8181818</td><td>0.1818182</td></tr>\n",
              "\t<tr><th scope=row>20</th><td>'no checking'</td><td>24</td><td><span style=white-space:pre-wrap>'existing paid'                 </span></td><td><span style=white-space:pre-wrap>radio/tv  </span></td><td> 3430</td><td><span style=white-space:pre-wrap>500&lt;=X&lt;1000       </span></td><td><span style=white-space:pre-wrap>&gt;=7   </span></td><td>3</td><td><span style=white-space:pre-wrap>'male single'       </span></td><td>none</td><td>⋯</td><td>none</td><td><span style=white-space:pre-wrap>own       </span></td><td>1</td><td><span style=white-space:pre-wrap>skilled                    </span></td><td>2</td><td>yes </td><td>yes</td><td>good</td><td>0.1358025</td><td>0.8641975</td></tr>\n",
              "\t<tr><th scope=row>21</th><td>'no checking'</td><td> 9</td><td>'critical/other existing credit'</td><td>'new car' </td><td> 2134</td><td><span style=white-space:pre-wrap>&lt;100              </span></td><td>1&lt;=X&lt;4</td><td>4</td><td><span style=white-space:pre-wrap>'male single'       </span></td><td>none</td><td>⋯</td><td>none</td><td><span style=white-space:pre-wrap>own       </span></td><td>3</td><td><span style=white-space:pre-wrap>skilled                    </span></td><td>1</td><td>yes </td><td>yes</td><td>good</td><td>0.1358025</td><td>0.8641975</td></tr>\n",
              "\t<tr><th scope=row>23</th><td><span style=white-space:pre-wrap>&lt;0           </span></td><td>10</td><td>'critical/other existing credit'</td><td>'new car' </td><td> 2241</td><td><span style=white-space:pre-wrap>&lt;100              </span></td><td><span style=white-space:pre-wrap>&lt;1    </span></td><td>1</td><td><span style=white-space:pre-wrap>'male single'       </span></td><td>none</td><td>⋯</td><td>none</td><td><span style=white-space:pre-wrap>rent      </span></td><td>2</td><td><span style=white-space:pre-wrap>'unskilled resident'       </span></td><td>2</td><td>none</td><td>no </td><td>good</td><td>0.3561644</td><td>0.6438356</td></tr>\n",
              "\t<tr><th scope=row>30</th><td><span style=white-space:pre-wrap>&lt;0           </span></td><td>60</td><td><span style=white-space:pre-wrap>'delayed previously'            </span></td><td><span style=white-space:pre-wrap>business  </span></td><td> 6836</td><td><span style=white-space:pre-wrap>&lt;100              </span></td><td><span style=white-space:pre-wrap>&gt;=7   </span></td><td>3</td><td><span style=white-space:pre-wrap>'male single'       </span></td><td>none</td><td>⋯</td><td>none</td><td><span style=white-space:pre-wrap>own       </span></td><td>2</td><td><span style=white-space:pre-wrap>skilled                    </span></td><td>1</td><td>yes </td><td>yes</td><td>bad </td><td>0.1333333</td><td>0.8666667</td></tr>\n",
              "</tbody>\n",
              "</table>\n"
            ],
            "text/markdown": "\nA data.frame: 6 × 23\n\n| <!--/--> | checking_status &lt;chr&gt; | duration &lt;int&gt; | credit_history &lt;chr&gt; | purpose &lt;chr&gt; | credit_amount &lt;int&gt; | savings_status &lt;chr&gt; | employment &lt;chr&gt; | installment_commitment &lt;int&gt; | personal_status &lt;chr&gt; | other_parties &lt;chr&gt; | ⋯ ⋯ | other_payment_plans &lt;chr&gt; | housing &lt;chr&gt; | existing_credits &lt;int&gt; | job &lt;chr&gt; | num_dependents &lt;int&gt; | own_telephone &lt;chr&gt; | foreign_worker &lt;chr&gt; | class &lt;chr&gt; | bad &lt;dbl&gt; | good &lt;dbl&gt; |\n|---|---|---|---|---|---|---|---|---|---|---|---|---|---|---|---|---|---|---|---|---|---|\n| 18 | &lt;0            | 30 | 'no credits/all paid'            | business   |  8072 | 'no known savings' | &lt;1     | 2 | 'male single'        | none | ⋯ | bank | own        | 3 | skilled                     | 1 | none | yes | good | 0.7608696 | 0.2391304 |\n| 19 | 0&lt;=X&lt;200      | 24 | 'existing paid'                  | 'used car' | 12579 | &lt;100               | &gt;=7    | 4 | 'female div/dep/mar' | none | ⋯ | none | 'for free' | 1 | 'high qualif/self emp/mgmt' | 1 | yes  | yes | bad  | 0.8181818 | 0.1818182 |\n| 20 | 'no checking' | 24 | 'existing paid'                  | radio/tv   |  3430 | 500&lt;=X&lt;1000        | &gt;=7    | 3 | 'male single'        | none | ⋯ | none | own        | 1 | skilled                     | 2 | yes  | yes | good | 0.1358025 | 0.8641975 |\n| 21 | 'no checking' |  9 | 'critical/other existing credit' | 'new car'  |  2134 | &lt;100               | 1&lt;=X&lt;4 | 4 | 'male single'        | none | ⋯ | none | own        | 3 | skilled                     | 1 | yes  | yes | good | 0.1358025 | 0.8641975 |\n| 23 | &lt;0            | 10 | 'critical/other existing credit' | 'new car'  |  2241 | &lt;100               | &lt;1     | 1 | 'male single'        | none | ⋯ | none | rent       | 2 | 'unskilled resident'        | 2 | none | no  | good | 0.3561644 | 0.6438356 |\n| 30 | &lt;0            | 60 | 'delayed previously'             | business   |  6836 | &lt;100               | &gt;=7    | 3 | 'male single'        | none | ⋯ | none | own        | 2 | skilled                     | 1 | yes  | yes | bad  | 0.1333333 | 0.8666667 |\n\n",
            "text/latex": "A data.frame: 6 × 23\n\\begin{tabular}{r|lllllllllllllllllllll}\n  & checking\\_status & duration & credit\\_history & purpose & credit\\_amount & savings\\_status & employment & installment\\_commitment & personal\\_status & other\\_parties & ⋯ & other\\_payment\\_plans & housing & existing\\_credits & job & num\\_dependents & own\\_telephone & foreign\\_worker & class & bad & good\\\\\n  & <chr> & <int> & <chr> & <chr> & <int> & <chr> & <chr> & <int> & <chr> & <chr> & ⋯ & <chr> & <chr> & <int> & <chr> & <int> & <chr> & <chr> & <chr> & <dbl> & <dbl>\\\\\n\\hline\n\t18 & <0            & 30 & 'no credits/all paid'            & business   &  8072 & 'no known savings' & <1     & 2 & 'male single'        & none & ⋯ & bank & own        & 3 & skilled                     & 1 & none & yes & good & 0.7608696 & 0.2391304\\\\\n\t19 & 0<=X<200      & 24 & 'existing paid'                  & 'used car' & 12579 & <100               & >=7    & 4 & 'female div/dep/mar' & none & ⋯ & none & 'for free' & 1 & 'high qualif/self emp/mgmt' & 1 & yes  & yes & bad  & 0.8181818 & 0.1818182\\\\\n\t20 & 'no checking' & 24 & 'existing paid'                  & radio/tv   &  3430 & 500<=X<1000        & >=7    & 3 & 'male single'        & none & ⋯ & none & own        & 1 & skilled                     & 2 & yes  & yes & good & 0.1358025 & 0.8641975\\\\\n\t21 & 'no checking' &  9 & 'critical/other existing credit' & 'new car'  &  2134 & <100               & 1<=X<4 & 4 & 'male single'        & none & ⋯ & none & own        & 3 & skilled                     & 1 & yes  & yes & good & 0.1358025 & 0.8641975\\\\\n\t23 & <0            & 10 & 'critical/other existing credit' & 'new car'  &  2241 & <100               & <1     & 1 & 'male single'        & none & ⋯ & none & rent       & 2 & 'unskilled resident'        & 2 & none & no  & good & 0.3561644 & 0.6438356\\\\\n\t30 & <0            & 60 & 'delayed previously'             & business   &  6836 & <100               & >=7    & 3 & 'male single'        & none & ⋯ & none & own        & 2 & skilled                     & 1 & yes  & yes & bad  & 0.1333333 & 0.8666667\\\\\n\\end{tabular}\n",
            "text/plain": [
              "   checking_status duration credit_history                   purpose   \n",
              "18 <0              30       'no credits/all paid'            business  \n",
              "19 0<=X<200        24       'existing paid'                  'used car'\n",
              "20 'no checking'   24       'existing paid'                  radio/tv  \n",
              "21 'no checking'    9       'critical/other existing credit' 'new car' \n",
              "23 <0              10       'critical/other existing credit' 'new car' \n",
              "30 <0              60       'delayed previously'             business  \n",
              "   credit_amount savings_status     employment installment_commitment\n",
              "18  8072         'no known savings' <1         2                     \n",
              "19 12579         <100               >=7        4                     \n",
              "20  3430         500<=X<1000        >=7        3                     \n",
              "21  2134         <100               1<=X<4     4                     \n",
              "23  2241         <100               <1         1                     \n",
              "30  6836         <100               >=7        3                     \n",
              "   personal_status      other_parties ⋯ other_payment_plans housing   \n",
              "18 'male single'        none          ⋯ bank                own       \n",
              "19 'female div/dep/mar' none          ⋯ none                'for free'\n",
              "20 'male single'        none          ⋯ none                own       \n",
              "21 'male single'        none          ⋯ none                own       \n",
              "23 'male single'        none          ⋯ none                rent      \n",
              "30 'male single'        none          ⋯ none                own       \n",
              "   existing_credits job                         num_dependents own_telephone\n",
              "18 3                skilled                     1              none         \n",
              "19 1                'high qualif/self emp/mgmt' 1              yes          \n",
              "20 1                skilled                     2              yes          \n",
              "21 3                skilled                     1              yes          \n",
              "23 2                'unskilled resident'        2              none         \n",
              "30 2                skilled                     1              yes          \n",
              "   foreign_worker class bad       good     \n",
              "18 yes            good  0.7608696 0.2391304\n",
              "19 yes            bad   0.8181818 0.1818182\n",
              "20 yes            good  0.1358025 0.8641975\n",
              "21 yes            good  0.1358025 0.8641975\n",
              "23 no             good  0.3561644 0.6438356\n",
              "30 yes            bad   0.1333333 0.8666667"
            ]
          },
          "metadata": {}
        }
      ]
    },
    {
      "cell_type": "code",
      "source": [
        "cred['Result'] <- ifelse(cred$bad >= 0.5, \"bad\",\"good\")\n",
        "head(cred)"
      ],
      "metadata": {
        "colab": {
          "base_uri": "https://localhost:8080/",
          "height": 428
        },
        "id": "_lIILrNQ2j2p",
        "outputId": "cc2b1cfd-11bc-48ad-95b6-a4b685bff402"
      },
      "execution_count": null,
      "outputs": [
        {
          "output_type": "display_data",
          "data": {
            "text/html": [
              "<table class=\"dataframe\">\n",
              "<caption>A data.frame: 6 × 24</caption>\n",
              "<thead>\n",
              "\t<tr><th></th><th scope=col>checking_status</th><th scope=col>duration</th><th scope=col>credit_history</th><th scope=col>purpose</th><th scope=col>credit_amount</th><th scope=col>savings_status</th><th scope=col>employment</th><th scope=col>installment_commitment</th><th scope=col>personal_status</th><th scope=col>other_parties</th><th scope=col>⋯</th><th scope=col>housing</th><th scope=col>existing_credits</th><th scope=col>job</th><th scope=col>num_dependents</th><th scope=col>own_telephone</th><th scope=col>foreign_worker</th><th scope=col>class</th><th scope=col>bad</th><th scope=col>good</th><th scope=col>Result</th></tr>\n",
              "\t<tr><th></th><th scope=col>&lt;chr&gt;</th><th scope=col>&lt;int&gt;</th><th scope=col>&lt;chr&gt;</th><th scope=col>&lt;chr&gt;</th><th scope=col>&lt;int&gt;</th><th scope=col>&lt;chr&gt;</th><th scope=col>&lt;chr&gt;</th><th scope=col>&lt;int&gt;</th><th scope=col>&lt;chr&gt;</th><th scope=col>&lt;chr&gt;</th><th scope=col>⋯</th><th scope=col>&lt;chr&gt;</th><th scope=col>&lt;int&gt;</th><th scope=col>&lt;chr&gt;</th><th scope=col>&lt;int&gt;</th><th scope=col>&lt;chr&gt;</th><th scope=col>&lt;chr&gt;</th><th scope=col>&lt;chr&gt;</th><th scope=col>&lt;dbl&gt;</th><th scope=col>&lt;dbl&gt;</th><th scope=col>&lt;chr&gt;</th></tr>\n",
              "</thead>\n",
              "<tbody>\n",
              "\t<tr><th scope=row>18</th><td><span style=white-space:pre-wrap>&lt;0           </span></td><td>30</td><td><span style=white-space:pre-wrap>'no credits/all paid'           </span></td><td><span style=white-space:pre-wrap>business  </span></td><td> 8072</td><td>'no known savings'</td><td><span style=white-space:pre-wrap>&lt;1    </span></td><td>2</td><td><span style=white-space:pre-wrap>'male single'       </span></td><td>none</td><td>⋯</td><td><span style=white-space:pre-wrap>own       </span></td><td>3</td><td><span style=white-space:pre-wrap>skilled                    </span></td><td>1</td><td>none</td><td>yes</td><td>good</td><td>0.7608696</td><td>0.2391304</td><td>bad </td></tr>\n",
              "\t<tr><th scope=row>19</th><td><span style=white-space:pre-wrap>0&lt;=X&lt;200     </span></td><td>24</td><td><span style=white-space:pre-wrap>'existing paid'                 </span></td><td>'used car'</td><td>12579</td><td><span style=white-space:pre-wrap>&lt;100              </span></td><td><span style=white-space:pre-wrap>&gt;=7   </span></td><td>4</td><td>'female div/dep/mar'</td><td>none</td><td>⋯</td><td>'for free'</td><td>1</td><td>'high qualif/self emp/mgmt'</td><td>1</td><td>yes </td><td>yes</td><td>bad </td><td>0.8181818</td><td>0.1818182</td><td>bad </td></tr>\n",
              "\t<tr><th scope=row>20</th><td>'no checking'</td><td>24</td><td><span style=white-space:pre-wrap>'existing paid'                 </span></td><td><span style=white-space:pre-wrap>radio/tv  </span></td><td> 3430</td><td><span style=white-space:pre-wrap>500&lt;=X&lt;1000       </span></td><td><span style=white-space:pre-wrap>&gt;=7   </span></td><td>3</td><td><span style=white-space:pre-wrap>'male single'       </span></td><td>none</td><td>⋯</td><td><span style=white-space:pre-wrap>own       </span></td><td>1</td><td><span style=white-space:pre-wrap>skilled                    </span></td><td>2</td><td>yes </td><td>yes</td><td>good</td><td>0.1358025</td><td>0.8641975</td><td>good</td></tr>\n",
              "\t<tr><th scope=row>21</th><td>'no checking'</td><td> 9</td><td>'critical/other existing credit'</td><td>'new car' </td><td> 2134</td><td><span style=white-space:pre-wrap>&lt;100              </span></td><td>1&lt;=X&lt;4</td><td>4</td><td><span style=white-space:pre-wrap>'male single'       </span></td><td>none</td><td>⋯</td><td><span style=white-space:pre-wrap>own       </span></td><td>3</td><td><span style=white-space:pre-wrap>skilled                    </span></td><td>1</td><td>yes </td><td>yes</td><td>good</td><td>0.1358025</td><td>0.8641975</td><td>good</td></tr>\n",
              "\t<tr><th scope=row>23</th><td><span style=white-space:pre-wrap>&lt;0           </span></td><td>10</td><td>'critical/other existing credit'</td><td>'new car' </td><td> 2241</td><td><span style=white-space:pre-wrap>&lt;100              </span></td><td><span style=white-space:pre-wrap>&lt;1    </span></td><td>1</td><td><span style=white-space:pre-wrap>'male single'       </span></td><td>none</td><td>⋯</td><td><span style=white-space:pre-wrap>rent      </span></td><td>2</td><td><span style=white-space:pre-wrap>'unskilled resident'       </span></td><td>2</td><td>none</td><td>no </td><td>good</td><td>0.3561644</td><td>0.6438356</td><td>good</td></tr>\n",
              "\t<tr><th scope=row>30</th><td><span style=white-space:pre-wrap>&lt;0           </span></td><td>60</td><td><span style=white-space:pre-wrap>'delayed previously'            </span></td><td><span style=white-space:pre-wrap>business  </span></td><td> 6836</td><td><span style=white-space:pre-wrap>&lt;100              </span></td><td><span style=white-space:pre-wrap>&gt;=7   </span></td><td>3</td><td><span style=white-space:pre-wrap>'male single'       </span></td><td>none</td><td>⋯</td><td><span style=white-space:pre-wrap>own       </span></td><td>2</td><td><span style=white-space:pre-wrap>skilled                    </span></td><td>1</td><td>yes </td><td>yes</td><td>bad </td><td>0.1333333</td><td>0.8666667</td><td>good</td></tr>\n",
              "</tbody>\n",
              "</table>\n"
            ],
            "text/markdown": "\nA data.frame: 6 × 24\n\n| <!--/--> | checking_status &lt;chr&gt; | duration &lt;int&gt; | credit_history &lt;chr&gt; | purpose &lt;chr&gt; | credit_amount &lt;int&gt; | savings_status &lt;chr&gt; | employment &lt;chr&gt; | installment_commitment &lt;int&gt; | personal_status &lt;chr&gt; | other_parties &lt;chr&gt; | ⋯ ⋯ | housing &lt;chr&gt; | existing_credits &lt;int&gt; | job &lt;chr&gt; | num_dependents &lt;int&gt; | own_telephone &lt;chr&gt; | foreign_worker &lt;chr&gt; | class &lt;chr&gt; | bad &lt;dbl&gt; | good &lt;dbl&gt; | Result &lt;chr&gt; |\n|---|---|---|---|---|---|---|---|---|---|---|---|---|---|---|---|---|---|---|---|---|---|\n| 18 | &lt;0            | 30 | 'no credits/all paid'            | business   |  8072 | 'no known savings' | &lt;1     | 2 | 'male single'        | none | ⋯ | own        | 3 | skilled                     | 1 | none | yes | good | 0.7608696 | 0.2391304 | bad  |\n| 19 | 0&lt;=X&lt;200      | 24 | 'existing paid'                  | 'used car' | 12579 | &lt;100               | &gt;=7    | 4 | 'female div/dep/mar' | none | ⋯ | 'for free' | 1 | 'high qualif/self emp/mgmt' | 1 | yes  | yes | bad  | 0.8181818 | 0.1818182 | bad  |\n| 20 | 'no checking' | 24 | 'existing paid'                  | radio/tv   |  3430 | 500&lt;=X&lt;1000        | &gt;=7    | 3 | 'male single'        | none | ⋯ | own        | 1 | skilled                     | 2 | yes  | yes | good | 0.1358025 | 0.8641975 | good |\n| 21 | 'no checking' |  9 | 'critical/other existing credit' | 'new car'  |  2134 | &lt;100               | 1&lt;=X&lt;4 | 4 | 'male single'        | none | ⋯ | own        | 3 | skilled                     | 1 | yes  | yes | good | 0.1358025 | 0.8641975 | good |\n| 23 | &lt;0            | 10 | 'critical/other existing credit' | 'new car'  |  2241 | &lt;100               | &lt;1     | 1 | 'male single'        | none | ⋯ | rent       | 2 | 'unskilled resident'        | 2 | none | no  | good | 0.3561644 | 0.6438356 | good |\n| 30 | &lt;0            | 60 | 'delayed previously'             | business   |  6836 | &lt;100               | &gt;=7    | 3 | 'male single'        | none | ⋯ | own        | 2 | skilled                     | 1 | yes  | yes | bad  | 0.1333333 | 0.8666667 | good |\n\n",
            "text/latex": "A data.frame: 6 × 24\n\\begin{tabular}{r|lllllllllllllllllllll}\n  & checking\\_status & duration & credit\\_history & purpose & credit\\_amount & savings\\_status & employment & installment\\_commitment & personal\\_status & other\\_parties & ⋯ & housing & existing\\_credits & job & num\\_dependents & own\\_telephone & foreign\\_worker & class & bad & good & Result\\\\\n  & <chr> & <int> & <chr> & <chr> & <int> & <chr> & <chr> & <int> & <chr> & <chr> & ⋯ & <chr> & <int> & <chr> & <int> & <chr> & <chr> & <chr> & <dbl> & <dbl> & <chr>\\\\\n\\hline\n\t18 & <0            & 30 & 'no credits/all paid'            & business   &  8072 & 'no known savings' & <1     & 2 & 'male single'        & none & ⋯ & own        & 3 & skilled                     & 1 & none & yes & good & 0.7608696 & 0.2391304 & bad \\\\\n\t19 & 0<=X<200      & 24 & 'existing paid'                  & 'used car' & 12579 & <100               & >=7    & 4 & 'female div/dep/mar' & none & ⋯ & 'for free' & 1 & 'high qualif/self emp/mgmt' & 1 & yes  & yes & bad  & 0.8181818 & 0.1818182 & bad \\\\\n\t20 & 'no checking' & 24 & 'existing paid'                  & radio/tv   &  3430 & 500<=X<1000        & >=7    & 3 & 'male single'        & none & ⋯ & own        & 1 & skilled                     & 2 & yes  & yes & good & 0.1358025 & 0.8641975 & good\\\\\n\t21 & 'no checking' &  9 & 'critical/other existing credit' & 'new car'  &  2134 & <100               & 1<=X<4 & 4 & 'male single'        & none & ⋯ & own        & 3 & skilled                     & 1 & yes  & yes & good & 0.1358025 & 0.8641975 & good\\\\\n\t23 & <0            & 10 & 'critical/other existing credit' & 'new car'  &  2241 & <100               & <1     & 1 & 'male single'        & none & ⋯ & rent       & 2 & 'unskilled resident'        & 2 & none & no  & good & 0.3561644 & 0.6438356 & good\\\\\n\t30 & <0            & 60 & 'delayed previously'             & business   &  6836 & <100               & >=7    & 3 & 'male single'        & none & ⋯ & own        & 2 & skilled                     & 1 & yes  & yes & bad  & 0.1333333 & 0.8666667 & good\\\\\n\\end{tabular}\n",
            "text/plain": [
              "   checking_status duration credit_history                   purpose   \n",
              "18 <0              30       'no credits/all paid'            business  \n",
              "19 0<=X<200        24       'existing paid'                  'used car'\n",
              "20 'no checking'   24       'existing paid'                  radio/tv  \n",
              "21 'no checking'    9       'critical/other existing credit' 'new car' \n",
              "23 <0              10       'critical/other existing credit' 'new car' \n",
              "30 <0              60       'delayed previously'             business  \n",
              "   credit_amount savings_status     employment installment_commitment\n",
              "18  8072         'no known savings' <1         2                     \n",
              "19 12579         <100               >=7        4                     \n",
              "20  3430         500<=X<1000        >=7        3                     \n",
              "21  2134         <100               1<=X<4     4                     \n",
              "23  2241         <100               <1         1                     \n",
              "30  6836         <100               >=7        3                     \n",
              "   personal_status      other_parties ⋯ housing    existing_credits\n",
              "18 'male single'        none          ⋯ own        3               \n",
              "19 'female div/dep/mar' none          ⋯ 'for free' 1               \n",
              "20 'male single'        none          ⋯ own        1               \n",
              "21 'male single'        none          ⋯ own        3               \n",
              "23 'male single'        none          ⋯ rent       2               \n",
              "30 'male single'        none          ⋯ own        2               \n",
              "   job                         num_dependents own_telephone foreign_worker\n",
              "18 skilled                     1              none          yes           \n",
              "19 'high qualif/self emp/mgmt' 1              yes           yes           \n",
              "20 skilled                     2              yes           yes           \n",
              "21 skilled                     1              yes           yes           \n",
              "23 'unskilled resident'        2              none          no            \n",
              "30 skilled                     1              yes           yes           \n",
              "   class bad       good      Result\n",
              "18 good  0.7608696 0.2391304 bad   \n",
              "19 bad   0.8181818 0.1818182 bad   \n",
              "20 good  0.1358025 0.8641975 good  \n",
              "21 good  0.1358025 0.8641975 good  \n",
              "23 good  0.3561644 0.6438356 good  \n",
              "30 bad   0.1333333 0.8666667 good  "
            ]
          },
          "metadata": {}
        }
      ]
    },
    {
      "cell_type": "code",
      "source": [
        "# avaliando modelo\n",
        "confusao = table(cred$class, cred$Result)\n",
        "confusao"
      ],
      "metadata": {
        "colab": {
          "base_uri": "https://localhost:8080/",
          "height": 86
        },
        "id": "sqfnTreW202Q",
        "outputId": "0b69b674-425d-4878-80a4-3205cb916654"
      },
      "execution_count": null,
      "outputs": [
        {
          "output_type": "display_data",
          "data": {
            "text/plain": [
              "      \n",
              "       bad good\n",
              "  bad   34   45\n",
              "  good  27  193"
            ]
          },
          "metadata": {}
        }
      ]
    },
    {
      "cell_type": "code",
      "source": [
        "acuracia = (confusao[1] + confusao[4])/sum(confusao)\n",
        "acuracia"
      ],
      "metadata": {
        "colab": {
          "base_uri": "https://localhost:8080/",
          "height": 34
        },
        "id": "ii3BnGkO3D6-",
        "outputId": "92ac856c-aca4-4ced-b8cf-ac20191ed131"
      },
      "execution_count": null,
      "outputs": [
        {
          "output_type": "display_data",
          "data": {
            "text/html": [
              "0.759197324414716"
            ],
            "text/markdown": "0.759197324414716",
            "text/latex": "0.759197324414716",
            "text/plain": [
              "[1] 0.7591973"
            ]
          },
          "metadata": {}
        }
      ]
    }
  ]
}