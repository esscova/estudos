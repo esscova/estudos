{
  "nbformat": 4,
  "nbformat_minor": 0,
  "metadata": {
    "colab": {
      "provenance": []
    },
    "kernelspec": {
      "name": "ir",
      "display_name": "R"
    },
    "language_info": {
      "name": "R"
    }
  },
  "cells": [
    {
      "cell_type": "markdown",
      "source": [
        "# Classificador binário com Naive Bayes em R\n",
        "\n",
        "O código tem como objetivo aplicar o algoritmo Naive Bayes para prever a classe de crédito de um banco alemão, com base em um conjunto de dados. Ele faz a divisão dos dados em conjuntos de treino e teste, cria o modelo, faz previsões e avalia o desempenho do modelo utilizando a matriz de confusão, taxa de acerto, taxa de erro e curva ROC."
      ],
      "metadata": {
        "id": "BgAAlTLKaeKv"
      }
    },
    {
      "cell_type": "code",
      "execution_count": 1,
      "metadata": {
        "colab": {
          "base_uri": "https://localhost:8080/"
        },
        "id": "oxfx8eLiFX3P",
        "outputId": "b24a41e3-2d05-43ba-e79c-adec0928cc12"
      },
      "outputs": [
        {
          "output_type": "stream",
          "name": "stderr",
          "text": [
            "Installing packages into ‘/usr/local/lib/R/site-library’\n",
            "(as ‘lib’ is unspecified)\n",
            "\n",
            "also installing the dependencies ‘listenv’, ‘parallelly’, ‘future’, ‘globals’, ‘shape’, ‘future.apply’, ‘numDeriv’, ‘progressr’, ‘SQUAREM’, ‘diagram’, ‘lava’, ‘prodlim’, ‘iterators’, ‘clock’, ‘gower’, ‘hardhat’, ‘ipred’, ‘timeDate’, ‘proxy’, ‘plyr’, ‘foreach’, ‘ModelMetrics’, ‘recipes’, ‘reshape2’\n",
            "\n",
            "\n"
          ]
        }
      ],
      "source": [
        "install.packages(c(\"e1071\", \"pROC\", \"caret\"))"
      ]
    },
    {
      "cell_type": "code",
      "source": [
        "# bibliotecas\n",
        "library(e1071)\n",
        "library(pROC)\n",
        "library(caret)"
      ],
      "metadata": {
        "colab": {
          "base_uri": "https://localhost:8080/"
        },
        "id": "Ixyb31PNcJ5G",
        "outputId": "e2cd1be9-ab10-4033-ef35-cc57144bf112"
      },
      "execution_count": 2,
      "outputs": [
        {
          "output_type": "stream",
          "name": "stderr",
          "text": [
            "Type 'citation(\"pROC\")' for a citation.\n",
            "\n",
            "\n",
            "Attaching package: ‘pROC’\n",
            "\n",
            "\n",
            "The following objects are masked from ‘package:stats’:\n",
            "\n",
            "    cov, smooth, var\n",
            "\n",
            "\n",
            "Loading required package: ggplot2\n",
            "\n",
            "Loading required package: lattice\n",
            "\n"
          ]
        }
      ]
    },
    {
      "cell_type": "code",
      "source": [
        "# carregando dados\n",
        "credito <- read.csv('/content/Credit.csv')\n",
        "\n",
        "print('Dimensões do dataset:')\n",
        "print(dim(credito))\n",
        "\n",
        "print('Primeiras linhas')\n",
        "print(head(credito))"
      ],
      "metadata": {
        "colab": {
          "base_uri": "https://localhost:8080/"
        },
        "id": "6b9GYxPycVbl",
        "outputId": "c3b350dd-d81b-4175-d97b-42ad10d85768"
      },
      "execution_count": 3,
      "outputs": [
        {
          "output_type": "stream",
          "name": "stdout",
          "text": [
            "[1] \"Dimensões do dataset:\"\n",
            "[1] 1000   21\n",
            "[1] \"\\nPrimeiras linhas\"\n",
            "  checking_status duration                   credit_history             purpose\n",
            "1              <0        6 'critical/other existing credit'            radio/tv\n",
            "2        0<=X<200       48                  'existing paid'            radio/tv\n",
            "3   'no checking'       12 'critical/other existing credit'           education\n",
            "4              <0       42                  'existing paid' furniture/equipment\n",
            "5              <0       24             'delayed previously'           'new car'\n",
            "6   'no checking'       36                  'existing paid'           education\n",
            "  credit_amount     savings_status employment installment_commitment\n",
            "1          1169 'no known savings'        >=7                      4\n",
            "2          5951               <100     1<=X<4                      2\n",
            "3          2096               <100     4<=X<7                      2\n",
            "4          7882               <100     4<=X<7                      2\n",
            "5          4870               <100     1<=X<4                      3\n",
            "6          9055 'no known savings'     1<=X<4                      2\n",
            "       personal_status other_parties residence_since  property_magnitude age\n",
            "1        'male single'          none               4       'real estate'  67\n",
            "2 'female div/dep/mar'          none               2       'real estate'  22\n",
            "3        'male single'          none               3       'real estate'  49\n",
            "4        'male single'     guarantor               4    'life insurance'  45\n",
            "5        'male single'          none               4 'no known property'  53\n",
            "6        'male single'          none               4 'no known property'  35\n",
            "  other_payment_plans    housing existing_credits                  job\n",
            "1                none        own                2              skilled\n",
            "2                none        own                1              skilled\n",
            "3                none        own                1 'unskilled resident'\n",
            "4                none 'for free'                1              skilled\n",
            "5                none 'for free'                2              skilled\n",
            "6                none 'for free'                1 'unskilled resident'\n",
            "  num_dependents own_telephone foreign_worker class\n",
            "1              1           yes            yes  good\n",
            "2              1          none            yes   bad\n",
            "3              2          none            yes  good\n",
            "4              2          none            yes  good\n",
            "5              2          none            yes   bad\n",
            "6              2           yes            yes  good\n"
          ]
        }
      ]
    },
    {
      "cell_type": "code",
      "source": [
        "# classe para fator\n",
        "credito$class <- as.factor(credito$class)"
      ],
      "metadata": {
        "id": "tc9t8N3WdLwS"
      },
      "execution_count": 5,
      "outputs": []
    },
    {
      "cell_type": "code",
      "source": [
        "# bases treino e teste\n",
        "set.seed(123)\n",
        "\n",
        "amostra <- sample(2, nrow(credito), replace = TRUE, prob=c(0.7, 0.3))\n",
        "X_train <- credito[amostra == 1,]\n",
        "X_test <- credito[amostra == 2,]\n",
        "\n",
        "print(\"Dimensoes do conjunto de treino:\")\n",
        "print(dim(X_train))\n",
        "\n",
        "print(\"Dimensões do conjunto de teste:\")\n",
        "print(dim(X_test))"
      ],
      "metadata": {
        "colab": {
          "base_uri": "https://localhost:8080/"
        },
        "id": "h8Mj0sQtdZCv",
        "outputId": "3f9d5060-fe80-4eb9-e5cd-39a3b4bdec2b"
      },
      "execution_count": 7,
      "outputs": [
        {
          "output_type": "stream",
          "name": "stdout",
          "text": [
            "[1] \"Dimensoes do conjunto de treino:\"\n",
            "[1] 705  21\n",
            "[1] \"Dimensões do conjunto de teste:\"\n",
            "[1] 295  21\n"
          ]
        }
      ]
    },
    {
      "cell_type": "code",
      "source": [
        "# modelo naive bayes\n",
        "modelo <- naiveBayes(class ~., data=X_train)\n",
        "print(\"Resumo do modelo:\")\n",
        "print(modelo)"
      ],
      "metadata": {
        "colab": {
          "base_uri": "https://localhost:8080/"
        },
        "id": "hs_DEghYebcx",
        "outputId": "4870a951-c6d1-4d0a-e7d6-aa3327814841"
      },
      "execution_count": 8,
      "outputs": [
        {
          "output_type": "stream",
          "name": "stdout",
          "text": [
            "[1] \"Resumo do modelo:\"\n",
            "\n",
            "Naive Bayes Classifier for Discrete Predictors\n",
            "\n",
            "Call:\n",
            "naiveBayes.default(x = X, y = Y, laplace = laplace)\n",
            "\n",
            "A-priori probabilities:\n",
            "Y\n",
            "     bad     good \n",
            "0.293617 0.706383 \n",
            "\n",
            "Conditional probabilities:\n",
            "      checking_status\n",
            "Y      'no checking'         <0      >=200   0<=X<200\n",
            "  bad     0.14492754 0.45410628 0.05314010 0.34782609\n",
            "  good    0.50200803 0.18473896 0.07429719 0.23895582\n",
            "\n",
            "      duration\n",
            "Y          [,1]     [,2]\n",
            "  bad  24.26570 13.14637\n",
            "  good 19.30321 11.10524\n",
            "\n",
            "      credit_history\n",
            "Y      'all paid' 'critical/other existing credit' 'delayed previously'\n",
            "  bad  0.07246377                       0.16425121           0.10628019\n",
            "  good 0.03212851                       0.34136546           0.08032129\n",
            "      credit_history\n",
            "Y      'existing paid' 'no credits/all paid'\n",
            "  bad       0.54106280            0.11594203\n",
            "  good      0.52409639            0.02208835\n",
            "\n",
            "      purpose\n",
            "Y      'domestic appliance'   'new car'  'used car'    business   education\n",
            "  bad           0.009661836 0.294685990 0.057971014 0.120772947 0.053140097\n",
            "  good          0.016064257 0.208835341 0.122489960 0.096385542 0.036144578\n",
            "      purpose\n",
            "Y      furniture/equipment       other    radio/tv     repairs  retraining\n",
            "  bad          0.188405797 0.014492754 0.227053140 0.028985507 0.004830918\n",
            "  good         0.168674699 0.008032129 0.315261044 0.018072289 0.010040161\n",
            "\n",
            "      credit_amount\n",
            "Y          [,1]     [,2]\n",
            "  bad  3914.710 3520.991\n",
            "  good 3006.044 2397.853\n",
            "\n",
            "      savings_status\n",
            "Y      'no known savings'       <100     >=1000 100<=X<500 500<=X<1000\n",
            "  bad          0.11111111 0.71980676 0.02415459 0.10628019  0.03864734\n",
            "  good         0.22690763 0.53413655 0.05421687 0.09638554  0.08835341\n",
            "\n",
            "      employment\n",
            "Y              <1        >=7     1<=X<4     4<=X<7 unemployed\n",
            "  bad  0.24154589 0.25603865 0.30434783 0.13043478 0.06763285\n",
            "  good 0.14658635 0.29116466 0.31526104 0.18875502 0.05823293\n",
            "\n",
            "      installment_commitment\n",
            "Y          [,1]     [,2]\n",
            "  bad  3.135266 1.088806\n",
            "  good 2.933735 1.130173\n",
            "\n",
            "      personal_status\n",
            "Y      'female div/dep/mar' 'male div/sep' 'male mar/wid' 'male single'\n",
            "  bad            0.34299517     0.06280193     0.09178744    0.50241546\n",
            "  good           0.28112450     0.04016064     0.10040161    0.57831325\n",
            "\n",
            "      other_parties\n",
            "Y      'co applicant'  guarantor       none\n",
            "  bad      0.05314010 0.02415459 0.92270531\n",
            "  good     0.03012048 0.05622490 0.91365462\n",
            "\n",
            "      residence_since\n",
            "Y          [,1]     [,2]\n",
            "  bad  2.835749 1.106941\n",
            "  good 2.851406 1.117813\n",
            "\n",
            "      property_magnitude\n",
            "Y      'life insurance' 'no known property' 'real estate'       car\n",
            "  bad         0.2415459           0.2270531     0.2125604 0.3188406\n",
            "  good        0.2289157           0.1164659     0.3373494 0.3172691\n",
            "\n",
            "      age\n",
            "Y          [,1]     [,2]\n",
            "  bad  34.23188 11.43807\n",
            "  good 36.53414 11.49595\n",
            "\n",
            "      other_payment_plans\n",
            "Y            bank       none     stores\n",
            "  bad  0.17874396 0.75362319 0.06763285\n",
            "  good 0.09839357 0.86345382 0.03815261\n",
            "\n",
            "      housing\n",
            "Y      'for free'        own       rent\n",
            "  bad  0.14492754 0.63768116 0.21739130\n",
            "  good 0.08433735 0.75702811 0.15863454\n",
            "\n",
            "      existing_credits\n",
            "Y          [,1]      [,2]\n",
            "  bad  1.410628 0.5915941\n",
            "  good 1.423695 0.5944079\n",
            "\n",
            "      job\n",
            "Y      'high qualif/self emp/mgmt' 'unemp/unskilled non res'\n",
            "  bad                   0.18357488                0.02415459\n",
            "  good                  0.14457831                0.02811245\n",
            "      job\n",
            "Y      'unskilled resident'    skilled\n",
            "  bad            0.17874396 0.61352657\n",
            "  good           0.21285141 0.61445783\n",
            "\n",
            "      num_dependents\n",
            "Y          [,1]      [,2]\n",
            "  bad  1.144928 0.3528812\n",
            "  good 1.148594 0.3560458\n",
            "\n",
            "      own_telephone\n",
            "Y           none       yes\n",
            "  bad  0.6038647 0.3961353\n",
            "  good 0.5763052 0.4236948\n",
            "\n",
            "      foreign_worker\n",
            "Y               no         yes\n",
            "  bad  0.009661836 0.990338164\n",
            "  good 0.050200803 0.949799197\n",
            "\n"
          ]
        }
      ]
    },
    {
      "cell_type": "code",
      "source": [
        "# previsoes com modelo\n",
        "y_pred <- predict(modelo, X_test)\n",
        "y_pred_prob <- predict(modelo, X_test, type=\"raw\")"
      ],
      "metadata": {
        "id": "ct7wMeZletF1"
      },
      "execution_count": 9,
      "outputs": []
    },
    {
      "cell_type": "code",
      "source": [
        "# matriz de confusao\n",
        "confusao <- table(Observado=X_test$class, Previsto=y_pred)\n",
        "\n",
        "print(\"Matriz de confusão\")\n",
        "print(confusao)"
      ],
      "metadata": {
        "colab": {
          "base_uri": "https://localhost:8080/"
        },
        "id": "hP8OSV_vfNsi",
        "outputId": "d3e44bf7-31c4-48c8-d8c4-eeda8511fefc"
      },
      "execution_count": 16,
      "outputs": [
        {
          "output_type": "stream",
          "name": "stdout",
          "text": [
            "[1] \"Matriz de confusão \"\n",
            "         Previsto\n",
            "Observado bad good\n",
            "     bad   53   40\n",
            "     good  30  172\n"
          ]
        }
      ]
    },
    {
      "cell_type": "code",
      "source": [
        "# metricas\n",
        "acerto <- sum(diag(confusao))/sum(confusao)\n",
        "erro <- 1 - acerto\n",
        "\n",
        "print(\"Métricas de desempenho: \")\n",
        "print(paste(\"Taxa de acerto (Acurácia): \", round(acerto*100,2), \"%\"))\n",
        "print(paste(\"Taxa de erro: \", round(erro*100,2), \"%\"))"
      ],
      "metadata": {
        "colab": {
          "base_uri": "https://localhost:8080/"
        },
        "id": "p3IFKGgRfrKd",
        "outputId": "f77c8961-7167-45d9-d674-a35feeefb9bb"
      },
      "execution_count": 17,
      "outputs": [
        {
          "output_type": "stream",
          "name": "stdout",
          "text": [
            "[1] \"Métricas de desempenho: \"\n",
            "[1] \"Taxa de acerto (Acurácia):  76.27 %\"\n",
            "[1] \"Taxa de erro:  23.73 %\"\n"
          ]
        }
      ]
    },
    {
      "cell_type": "code",
      "source": [
        "# outras metricas\n",
        "precisao <- confusao[2,2]/sum(confusao[,2])\n",
        "recall <- confusao[2,2]/sum(confusao[2,])\n",
        "f1 <- 2 * (precisao*recall)/(precisao+recall)\n",
        "\n",
        "print(paste(\"Precisão:\", round(precisao*100, 2), \"%\"))\n",
        "print(paste(\"Recall:\", round(recall*100, 2), \"%\"))\n",
        "print(paste(\"F1-Score:\", round(f1*100, 2), \"%\"))"
      ],
      "metadata": {
        "colab": {
          "base_uri": "https://localhost:8080/"
        },
        "id": "8-QZ6LshgsOF",
        "outputId": "911215b7-1635-435b-8477-950567bb2f3b"
      },
      "execution_count": 18,
      "outputs": [
        {
          "output_type": "stream",
          "name": "stdout",
          "text": [
            "[1] \"Precisão: 81.13 %\"\n",
            "[1] \"Recall: 85.15 %\"\n",
            "[1] \"F1-Score: 83.09 %\"\n"
          ]
        }
      ]
    },
    {
      "cell_type": "code",
      "source": [
        "# criando curva ROC\n",
        "roc_obj <- roc(X_test$class, y_pred_prob[,2])\n",
        "auc_value <- auc(roc_obj)\n",
        "\n",
        "plot(\n",
        "  roc_obj,\n",
        "  main = \"Curva ROC - Naive Bayes\",\n",
        "  col=\"blue\", lwd=2,\n",
        "  xlab=\"Taxa de Falsos Positivos\",\n",
        "  ylab=\"Taxa de Verdadeiros Positivos\"\n",
        ")\n",
        "abline(a=0, b=1, lty=2, col=\"red\")\n",
        "legend(\n",
        "  \"bottomright\",\n",
        "  legend=paste(\"AUC =\", round(auc_value, 3)),\n",
        "  col=\"blue\",lwd=2\n",
        ")"
      ],
      "metadata": {
        "colab": {
          "base_uri": "https://localhost:8080/",
          "height": 506
        },
        "id": "Bi8plLKkhLT8",
        "outputId": "44348d7e-727e-42b8-bacb-e10631d3bab8"
      },
      "execution_count": 19,
      "outputs": [
        {
          "output_type": "stream",
          "name": "stderr",
          "text": [
            "Setting levels: control = bad, case = good\n",
            "\n",
            "Setting direction: controls < cases\n",
            "\n"
          ]
        },
        {
          "output_type": "display_data",
          "data": {
            "text/plain": [
              "Plot with title “Curva ROC - Naive Bayes”"
            ],
            "image/png": "[encoded data removed]"
          },
          "metadata": {
            "image/png": {
              "width": 420,
              "height": 420
            }
          }
        }
      ]
    }
  ]
}