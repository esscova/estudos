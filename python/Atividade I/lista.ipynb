{
 "cells": [
  {
   "cell_type": "markdown",
   "id": "843c5598-32d5-4388-a5f8-b4807a29666d",
   "metadata": {},
   "source": [
    "# Lista de exercícios"
   ]
  },
  {
   "cell_type": "markdown",
   "id": "f8133b1e-7dea-48c5-a086-54c5dee5e701",
   "metadata": {
    "jp-MarkdownHeadingCollapsed": true
   },
   "source": [
    "### **Olá, Mundo!**\n",
    "\n",
    "Escreva um programa que imprime a mensagem \"Olá, Mundo!\" na tela."
   ]
  },
  {
   "cell_type": "code",
   "execution_count": 1,
   "id": "29898d4d-7ca1-4744-9d1c-0a17dd212796",
   "metadata": {},
   "outputs": [
    {
     "name": "stdout",
     "output_type": "stream",
     "text": [
      "hello world1\n"
     ]
    }
   ],
   "source": [
    "print('hello world1')"
   ]
  },
  {
   "cell_type": "markdown",
   "id": "0ecc434c-e81e-4e6a-ba20-526622707ed0",
   "metadata": {
    "jp-MarkdownHeadingCollapsed": true
   },
   "source": [
    "### **Soma de dois números**\n",
    "\n",
    "Escreva um programa que leia dois números inteiros do usuário e imprima a soma deles."
   ]
  },
  {
   "cell_type": "code",
   "execution_count": 3,
   "id": "b383a485-2502-4d8c-87f4-fe7f4574a021",
   "metadata": {},
   "outputs": [
    {
     "name": "stdout",
     "output_type": "stream",
     "text": [
      "Soma numeros: \n",
      "\n"
     ]
    },
    {
     "name": "stdin",
     "output_type": "stream",
     "text": [
      "Digite o primeiro número:  2\n",
      "\n",
      "Digite o segundo número:  3\n"
     ]
    },
    {
     "name": "stdout",
     "output_type": "stream",
     "text": [
      "\n",
      "Soma=5\n"
     ]
    }
   ],
   "source": [
    "print('Soma numeros: \\n')\n",
    "num1 = int(input('Digite o primeiro número: '))\n",
    "num2 = int(input('\\nDigite o segundo número: '))\n",
    "print(f'\\nSoma={num1+num2}')"
   ]
  },
  {
   "cell_type": "markdown",
   "id": "461b31e9-c28d-4255-a6a8-c115187dd744",
   "metadata": {
    "jp-MarkdownHeadingCollapsed": true
   },
   "source": [
    "### **Par ou Ímpar**\n",
    "\n",
    "Escreva um programa que leia um número inteiro e informe se ele é par ou ímpar."
   ]
  },
  {
   "cell_type": "code",
   "execution_count": 7,
   "id": "3477abf7-57cc-4e25-97dd-ba67c8e85652",
   "metadata": {},
   "outputs": [
    {
     "name": "stdin",
     "output_type": "stream",
     "text": [
      "Digite um número:  2\n"
     ]
    },
    {
     "name": "stdout",
     "output_type": "stream",
     "text": [
      "par\n"
     ]
    }
   ],
   "source": [
    "num = int(input('Digite um número: '))\n",
    "print('par') if num % 2 == 0 else print('impar')"
   ]
  },
  {
   "cell_type": "markdown",
   "id": "e2309bfa-32a7-4e49-a557-77f7572120b7",
   "metadata": {
    "jp-MarkdownHeadingCollapsed": true
   },
   "source": [
    "### **Maior de três números**\n",
    "\n",
    "Escreva um programa que leia três números e imprima o maior deles."
   ]
  },
  {
   "cell_type": "code",
   "execution_count": 13,
   "id": "3f31e77d-524a-47bd-9e9f-0a33426ff8b6",
   "metadata": {},
   "outputs": [
    {
     "name": "stdout",
     "output_type": "stream",
     "text": [
      "Digite 3 numeros\n",
      "\n"
     ]
    },
    {
     "name": "stdin",
     "output_type": "stream",
     "text": [
      "1ª numero:  1\n",
      "2ª numero:  2\n",
      "3ª numero:  3\n"
     ]
    },
    {
     "name": "stdout",
     "output_type": "stream",
     "text": [
      "\n",
      "Maior número da lista: 3\n"
     ]
    }
   ],
   "source": [
    "print('Digite 3 numeros\\n')\n",
    "vetor = []\n",
    "for i in range(3):\n",
    "    num = int(input(f'{i+1}ª numero: '))\n",
    "    vetor.append(num)\n",
    "print(f'\\nMaior número da lista: {max(vetor)}')"
   ]
  },
  {
   "cell_type": "markdown",
   "id": "b89d3e9b-46f9-47e2-b461-41c3950e6fbb",
   "metadata": {
    "jp-MarkdownHeadingCollapsed": true
   },
   "source": [
    "### **Tabuada**\n",
    "\n",
    "Escreva um programa que leia um número e imprima sua tabuada de 1 a 10."
   ]
  },
  {
   "cell_type": "code",
   "execution_count": 18,
   "id": "540d9334-050a-4a70-9225-3e87608542ad",
   "metadata": {},
   "outputs": [
    {
     "name": "stdin",
     "output_type": "stream",
     "text": [
      "Digite o número para tabuada:  3\n"
     ]
    },
    {
     "name": "stdout",
     "output_type": "stream",
     "text": [
      "3 X 1 = 3\n",
      "3 X 2 = 6\n",
      "3 X 3 = 9\n",
      "3 X 4 = 12\n",
      "3 X 5 = 15\n",
      "3 X 6 = 18\n",
      "3 X 7 = 21\n",
      "3 X 8 = 24\n",
      "3 X 9 = 27\n",
      "3 X 10 = 30\n"
     ]
    }
   ],
   "source": [
    "num = int(input('Digite o número para tabuada: '))\n",
    "for i in range(10):\n",
    "    print(f'{num} X {i+1} = {num*(i+1)}')"
   ]
  },
  {
   "cell_type": "markdown",
   "id": "e69d4781-335c-472e-93fa-015bac630c4b",
   "metadata": {
    "jp-MarkdownHeadingCollapsed": true
   },
   "source": [
    "### **Contagem regressiva**\n",
    "\n",
    "Escreva um programa que faça uma contagem regressiva de 10 a 1, imprimindo cada número."
   ]
  },
  {
   "cell_type": "code",
   "execution_count": 31,
   "id": "bf4af522-85d5-426a-93d4-52d5ac441288",
   "metadata": {},
   "outputs": [
    {
     "name": "stdout",
     "output_type": "stream",
     "text": [
      "10\n",
      "9\n",
      "8\n",
      "7\n",
      "6\n",
      "5\n",
      "4\n",
      "3\n",
      "2\n",
      "1\n"
     ]
    }
   ],
   "source": [
    "for i in range(10, 0, -1):\n",
    "    print(i)"
   ]
  },
  {
   "cell_type": "markdown",
   "id": "f84ac3e8-32d0-4377-b2fd-366e55378b68",
   "metadata": {},
   "source": [
    "### **Fatorial**\n",
    "\n",
    "Escreva um programa que calcule o fatorial de um número."
   ]
  },
  {
   "cell_type": "code",
   "execution_count": 32,
   "id": "d561ef6f-dc3c-4039-82de-54f84da64c77",
   "metadata": {},
   "outputs": [
    {
     "name": "stdin",
     "output_type": "stream",
     "text": [
      "Digite um numero:  3\n"
     ]
    },
    {
     "name": "stdout",
     "output_type": "stream",
     "text": [
      "0\n",
      "1\n",
      "0\n"
     ]
    }
   ],
   "source": [
    "num = int(input('Digite um numero: '))\n",
    "for i in range(num):\n",
    "    num-=1\n",
    "    print(num*i)"
   ]
  }
 ],
 "metadata": {
  "kernelspec": {
   "display_name": "Python 3 (ipykernel)",
   "language": "python",
   "name": "python3"
  },
  "language_info": {
   "codemirror_mode": {
    "name": "ipython",
    "version": 3
   },
   "file_extension": ".py",
   "mimetype": "text/x-python",
   "name": "python",
   "nbconvert_exporter": "python",
   "pygments_lexer": "ipython3",
   "version": "3.12.4"
  }
 },
 "nbformat": 4,
 "nbformat_minor": 5
}
