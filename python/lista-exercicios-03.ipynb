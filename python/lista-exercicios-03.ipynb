{
 "cells": [
  {
   "cell_type": "markdown",
   "id": "68215846-e636-43a7-a18e-d268d8af20c6",
   "metadata": {},
   "source": [
    "## Lista de exercicios 03"
   ]
  },
  {
   "cell_type": "markdown",
   "id": "7070ba2a-b38d-47d0-a9e6-f26f6a69bdb3",
   "metadata": {},
   "source": [
    "### Análise de dados\n",
    "Exercício 1.1: Carregue o dataset iris da biblioteca seaborn. Calcule as seguintes estatísticas descritivas para cada coluna numérica:\n",
    "\n",
    "    Média\n",
    "    Mediana\n",
    "    Desvio padrão\n",
    "    Valor mínimo e máximo\n",
    "    Quantis (25%, 50%, 75%)\n",
    "\n",
    "Exercício 1.2: Crie uma função que receba um DataFrame e retorne um resumo estatístico personalizado, incluindo:\n",
    "\n",
    "    Número de valores ausentes por coluna\n",
    "    Número de valores únicos por coluna\n",
    "    Tipos de dados de cada coluna"
   ]
  },
  {
   "cell_type": "code",
   "execution_count": 1,
   "id": "840d834b-32b6-403d-9c16-8d94d52b5d34",
   "metadata": {},
   "outputs": [
    {
     "name": "stdout",
     "output_type": "stream",
     "text": [
      "Dataset carregado\n"
     ]
    }
   ],
   "source": [
    "# bibliotecas\n",
    "import pandas as pd\n",
    "import numpy as np\n",
    "import matplotlib.pyplot as plt\n",
    "import seaborn as sns\n",
    "\n",
    "# carregando dados\n",
    "try:\n",
    "    iris = sns.load_dataset('iris')\n",
    "    print(\"Dataset carregado\")\n",
    "except Exception as e:\n",
    "    raise RuntimeError(\"Erro inesperado ao carregar o dataset\") from e"
   ]
  },
  {
   "cell_type": "code",
   "execution_count": 2,
   "id": "a84849ca-f326-4215-9431-16398cae6db1",
   "metadata": {},
   "outputs": [
    {
     "data": {
      "text/html": [
       "<div>\n",
       "<style scoped>\n",
       "    .dataframe tbody tr th:only-of-type {\n",
       "        vertical-align: middle;\n",
       "    }\n",
       "\n",
       "    .dataframe tbody tr th {\n",
       "        vertical-align: top;\n",
       "    }\n",
       "\n",
       "    .dataframe thead th {\n",
       "        text-align: right;\n",
       "    }\n",
       "</style>\n",
       "<table border=\"1\" class=\"dataframe\">\n",
       "  <thead>\n",
       "    <tr style=\"text-align: right;\">\n",
       "      <th></th>\n",
       "      <th>sepal_length</th>\n",
       "      <th>sepal_width</th>\n",
       "      <th>petal_length</th>\n",
       "      <th>petal_width</th>\n",
       "      <th>species</th>\n",
       "    </tr>\n",
       "  </thead>\n",
       "  <tbody>\n",
       "    <tr>\n",
       "      <th>0</th>\n",
       "      <td>5.1</td>\n",
       "      <td>3.5</td>\n",
       "      <td>1.4</td>\n",
       "      <td>0.2</td>\n",
       "      <td>setosa</td>\n",
       "    </tr>\n",
       "    <tr>\n",
       "      <th>1</th>\n",
       "      <td>4.9</td>\n",
       "      <td>3.0</td>\n",
       "      <td>1.4</td>\n",
       "      <td>0.2</td>\n",
       "      <td>setosa</td>\n",
       "    </tr>\n",
       "    <tr>\n",
       "      <th>2</th>\n",
       "      <td>4.7</td>\n",
       "      <td>3.2</td>\n",
       "      <td>1.3</td>\n",
       "      <td>0.2</td>\n",
       "      <td>setosa</td>\n",
       "    </tr>\n",
       "    <tr>\n",
       "      <th>3</th>\n",
       "      <td>4.6</td>\n",
       "      <td>3.1</td>\n",
       "      <td>1.5</td>\n",
       "      <td>0.2</td>\n",
       "      <td>setosa</td>\n",
       "    </tr>\n",
       "    <tr>\n",
       "      <th>4</th>\n",
       "      <td>5.0</td>\n",
       "      <td>3.6</td>\n",
       "      <td>1.4</td>\n",
       "      <td>0.2</td>\n",
       "      <td>setosa</td>\n",
       "    </tr>\n",
       "  </tbody>\n",
       "</table>\n",
       "</div>"
      ],
      "text/plain": [
       "   sepal_length  sepal_width  petal_length  petal_width species\n",
       "0           5.1          3.5           1.4          0.2  setosa\n",
       "1           4.9          3.0           1.4          0.2  setosa\n",
       "2           4.7          3.2           1.3          0.2  setosa\n",
       "3           4.6          3.1           1.5          0.2  setosa\n",
       "4           5.0          3.6           1.4          0.2  setosa"
      ]
     },
     "execution_count": 2,
     "metadata": {},
     "output_type": "execute_result"
    }
   ],
   "source": [
    "# primeiros registros\n",
    "iris.head()"
   ]
  },
  {
   "cell_type": "code",
   "execution_count": 4,
   "id": "9e2b2aad-b74d-41e3-bfe5-6554ce7cd83e",
   "metadata": {},
   "outputs": [
    {
     "data": {
      "text/plain": [
       "sepal_length    float64\n",
       "sepal_width     float64\n",
       "petal_length    float64\n",
       "petal_width     float64\n",
       "species          object\n",
       "dtype: object"
      ]
     },
     "execution_count": 4,
     "metadata": {},
     "output_type": "execute_result"
    }
   ],
   "source": [
    "# tipo de dados\n",
    "iris.dtypes"
   ]
  },
  {
   "cell_type": "code",
   "execution_count": 3,
   "id": "8fc6d7cc-574a-47df-99ba-a5b2e7e7958e",
   "metadata": {},
   "outputs": [
    {
     "data": {
      "text/html": [
       "<div>\n",
       "<style scoped>\n",
       "    .dataframe tbody tr th:only-of-type {\n",
       "        vertical-align: middle;\n",
       "    }\n",
       "\n",
       "    .dataframe tbody tr th {\n",
       "        vertical-align: top;\n",
       "    }\n",
       "\n",
       "    .dataframe thead th {\n",
       "        text-align: right;\n",
       "    }\n",
       "</style>\n",
       "<table border=\"1\" class=\"dataframe\">\n",
       "  <thead>\n",
       "    <tr style=\"text-align: right;\">\n",
       "      <th></th>\n",
       "      <th>sepal_length</th>\n",
       "      <th>sepal_width</th>\n",
       "      <th>petal_length</th>\n",
       "      <th>petal_width</th>\n",
       "    </tr>\n",
       "  </thead>\n",
       "  <tbody>\n",
       "    <tr>\n",
       "      <th>count</th>\n",
       "      <td>150.000000</td>\n",
       "      <td>150.000000</td>\n",
       "      <td>150.000000</td>\n",
       "      <td>150.000000</td>\n",
       "    </tr>\n",
       "    <tr>\n",
       "      <th>mean</th>\n",
       "      <td>5.843333</td>\n",
       "      <td>3.057333</td>\n",
       "      <td>3.758000</td>\n",
       "      <td>1.199333</td>\n",
       "    </tr>\n",
       "    <tr>\n",
       "      <th>std</th>\n",
       "      <td>0.828066</td>\n",
       "      <td>0.435866</td>\n",
       "      <td>1.765298</td>\n",
       "      <td>0.762238</td>\n",
       "    </tr>\n",
       "    <tr>\n",
       "      <th>min</th>\n",
       "      <td>4.300000</td>\n",
       "      <td>2.000000</td>\n",
       "      <td>1.000000</td>\n",
       "      <td>0.100000</td>\n",
       "    </tr>\n",
       "    <tr>\n",
       "      <th>25%</th>\n",
       "      <td>5.100000</td>\n",
       "      <td>2.800000</td>\n",
       "      <td>1.600000</td>\n",
       "      <td>0.300000</td>\n",
       "    </tr>\n",
       "    <tr>\n",
       "      <th>50%</th>\n",
       "      <td>5.800000</td>\n",
       "      <td>3.000000</td>\n",
       "      <td>4.350000</td>\n",
       "      <td>1.300000</td>\n",
       "    </tr>\n",
       "    <tr>\n",
       "      <th>75%</th>\n",
       "      <td>6.400000</td>\n",
       "      <td>3.300000</td>\n",
       "      <td>5.100000</td>\n",
       "      <td>1.800000</td>\n",
       "    </tr>\n",
       "    <tr>\n",
       "      <th>max</th>\n",
       "      <td>7.900000</td>\n",
       "      <td>4.400000</td>\n",
       "      <td>6.900000</td>\n",
       "      <td>2.500000</td>\n",
       "    </tr>\n",
       "  </tbody>\n",
       "</table>\n",
       "</div>"
      ],
      "text/plain": [
       "       sepal_length  sepal_width  petal_length  petal_width\n",
       "count    150.000000   150.000000    150.000000   150.000000\n",
       "mean       5.843333     3.057333      3.758000     1.199333\n",
       "std        0.828066     0.435866      1.765298     0.762238\n",
       "min        4.300000     2.000000      1.000000     0.100000\n",
       "25%        5.100000     2.800000      1.600000     0.300000\n",
       "50%        5.800000     3.000000      4.350000     1.300000\n",
       "75%        6.400000     3.300000      5.100000     1.800000\n",
       "max        7.900000     4.400000      6.900000     2.500000"
      ]
     },
     "execution_count": 3,
     "metadata": {},
     "output_type": "execute_result"
    }
   ],
   "source": [
    "# analise descritiva\n",
    "iris.describe()"
   ]
  },
  {
   "cell_type": "code",
   "execution_count": 5,
   "id": "09ee1aa2-5a65-4e74-921c-610141fb3b12",
   "metadata": {},
   "outputs": [],
   "source": [
    "# função para resumo estatístico\n",
    "def resumo_estatistico(df:pd.DataFrame) -> None:\n",
    "    print(\"\\n--- Resumo do Dataset ---\\n\")\n",
    "    print(f'Número de valores ausentes por atributo:\\n{df.isna().sum()}\\n')\n",
    "    print(f'Número de valores únicos por atributo:\\n{df.nunique()}\\n')\n",
    "    print(f'Tipos de dados de cada atributo:\\n{df.dtypes}\\n')"
   ]
  },
  {
   "cell_type": "code",
   "execution_count": 8,
   "id": "4a2321d9-44b2-421d-9bc4-9e04b39be53b",
   "metadata": {},
   "outputs": [
    {
     "name": "stdout",
     "output_type": "stream",
     "text": [
      "\n",
      "--- Resumo do Dataset ---\n",
      "\n",
      "Número de valores ausentes por atributo:\n",
      "sepal_length    0\n",
      "sepal_width     0\n",
      "petal_length    0\n",
      "petal_width     0\n",
      "species         0\n",
      "dtype: int64\n",
      "\n",
      "Número de valores únicos por atributo:\n",
      "sepal_length    35\n",
      "sepal_width     23\n",
      "petal_length    43\n",
      "petal_width     22\n",
      "species          3\n",
      "dtype: int64\n",
      "\n",
      "Tipos de dados de cada atributo:\n",
      "sepal_length    float64\n",
      "sepal_width     float64\n",
      "petal_length    float64\n",
      "petal_width     float64\n",
      "species          object\n",
      "dtype: object\n",
      "\n"
     ]
    }
   ],
   "source": [
    "resumo_estatistico(iris)"
   ]
  },
  {
   "cell_type": "markdown",
   "id": "f4017c63-9fb6-42dd-980f-596f6455e7e0",
   "metadata": {},
   "source": [
    "### Exploração de Dados\n",
    "\n",
    "Exercício 2.1: Utilize o dataset tips da biblioteca seaborn. Responda às seguintes perguntas:\n",
    "\n",
    "    Qual é a média de gorjeta (tip) por dia da semana?\n",
    "    Qual é a proporção de fumantes (smoker) vs. não fumantes?\n",
    "    Existe correlação entre o valor total da conta (total_bill) e a gorjeta (tip)?\n",
    "\n",
    "Exercício 2.2: Carregue o dataset titanic da biblioteca seaborn. Explore os dados para responder:\n",
    "\n",
    "    Qual é a taxa de sobrevivência por sexo?\n",
    "    Qual é a distribuição de idades dos passageiros?\n",
    "    Há relação entre a classe da cabine (pclass) e a taxa de sobrevivência?"
   ]
  },
  {
   "cell_type": "markdown",
   "id": "adf05d7c-0864-4547-8679-72e5111e3d21",
   "metadata": {},
   "source": [
    "### Visualização de Dados\n",
    "\n",
    "Exercício 3.1: Usando o dataset iris, crie os seguintes gráficos:\n",
    "\n",
    "    Um histograma para a distribuição de comprimento das pétalas (petal_length).\n",
    "    Um gráfico de dispersão (scatter plot) entre comprimento e largura das pétalas.\n",
    "    Um boxplot para comparar a distribuição de comprimento das sépalas (sepal_length) por espécie.\n",
    "\n",
    "Exercício 3.2: Com o dataset titanic, crie visualizações para:\n",
    "\n",
    "    Um gráfico de barras mostrando a contagem de sobreviventes vs. não sobreviventes.\n",
    "    Um heatmap da matriz de correlação entre as variáveis numéricas.\n",
    "    Um gráfico de violino para comparar a distribuição de idades por classe de cabine."
   ]
  },
  {
   "cell_type": "markdown",
   "id": "172c5e5d-b40c-4b52-86e9-226a1a0a908c",
   "metadata": {},
   "source": [
    "### Engenharia de Dados\n",
    "\n",
    "Exercício 4.1: Carregue o dataset titanic e realize as seguintes transformações:\n",
    "\n",
    "    Crie uma nova coluna family_size que seja a soma de sibsp (irmãos/cônjuges) e parch (pais/filhos).\n",
    "    Converta a coluna sex em valores numéricos (0 para masculino e 1 para feminino).\n",
    "    Preencha os valores ausentes na coluna age com a mediana da idade.\n",
    "\n",
    "Exercício 4.2: Crie uma função que receba um DataFrame e:\n",
    "\n",
    "    Padronize as colunas numéricas (subtraia a média e divida pelo desvio padrão).\n",
    "    Aplique codificação one-hot em colunas categóricas."
   ]
  },
  {
   "cell_type": "markdown",
   "id": "c6b54e24-3e0c-4c60-9e8d-425843e2f01c",
   "metadata": {},
   "source": [
    "### Mineração de Dados\n",
    "\n",
    "Exercício 5.1: Utilize o dataset mall_customers.csv (disponível em muitos repositórios de datasets). Realize uma análise de clusters usando o algoritmo K-Means para agrupar os clientes com base em Annual Income (k$) e Spending Score (1-100). Determine o número ideal de clusters usando o método do cotovelo.\n",
    "\n",
    "Exercício 5.2: Aplique o algoritmo Apriori para encontrar regras de associação no dataset groceries.csv (disponível em repositórios de datasets). Defina um suporte mínimo de 0.01 e uma confiança mínima de 0.3."
   ]
  },
  {
   "cell_type": "markdown",
   "id": "fac6873b-47f5-40b3-a1d1-f5c07d41fe0a",
   "metadata": {},
   "source": [
    "### Machine Learning\n",
    "\n",
    "Exercício 6.1: Utilize o dataset iris para treinar um modelo de classificação usando o algoritmo K-Nearest Neighbors (KNN). Divida os dados em treino e teste, avalie a acurácia do modelo e mostre a matriz de confusão.\n",
    "\n",
    "Exercício 6.2: Com o dataset boston da biblioteca sklearn, treine um modelo de regressão linear para prever o valor médio das casas (MEDV). Avalie o modelo usando métricas como RMSE e R².\n",
    "\n",
    "Exercício 6.3: Utilize o dataset titanic para treinar um modelo de árvore de decisão. Realize a validação cruzada e ajuste os hiperparâmetros usando GridSearchCV."
   ]
  },
  {
   "cell_type": "code",
   "execution_count": null,
   "id": "8048656d-4bba-450f-8017-9692b7a4584b",
   "metadata": {},
   "outputs": [],
   "source": []
  }
 ],
 "metadata": {
  "kernelspec": {
   "display_name": "Python 3 (ipykernel)",
   "language": "python",
   "name": "python3"
  },
  "language_info": {
   "codemirror_mode": {
    "name": "ipython",
    "version": 3
   },
   "file_extension": ".py",
   "mimetype": "text/x-python",
   "name": "python",
   "nbconvert_exporter": "python",
   "pygments_lexer": "ipython3",
   "version": "3.12.2"
  }
 },
 "nbformat": 4,
 "nbformat_minor": 5
}
