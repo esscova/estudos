{
 "cells": [
  {
   "cell_type": "markdown",
   "id": "3b4c6be1-f596-4de6-99e9-9b608e8a55d7",
   "metadata": {},
   "source": [
    "# Desafio: Strings"
   ]
  },
  {
   "cell_type": "markdown",
   "id": "a40c158d-a308-4379-9885-887fa8a6f46b",
   "metadata": {},
   "source": [
    "1. Codificador de Strings (Cifra de César)\n",
    "Implemente uma função que codifique uma string usando a Cifra de César, deslocando cada letra um número específico de posições no alfabeto.\n",
    "\n",
    "\tExemplo:\n",
    "\tEntrada: \"python\", deslocamento: 3\n",
    "\tSaída: \"sbwkrq\""
   ]
  },
  {
   "cell_type": "code",
   "execution_count": 40,
   "id": "290c1ad4-1540-4e3d-be24-9896666b2aa7",
   "metadata": {},
   "outputs": [
    {
     "data": {
      "text/plain": [
       "'abcdefghijklmnopqrstuvwxyzABCDEFGHIJKLMNOPQRSTUVWXYZ'"
      ]
     },
     "execution_count": 40,
     "metadata": {},
     "output_type": "execute_result"
    }
   ],
   "source": [
    "import string\n",
    "letras = string.ascii_letters\n",
    "letras"
   ]
  },
  {
   "cell_type": "code",
   "execution_count": 37,
   "id": "61bc93c6-8161-48cf-aee8-8e377c1b066f",
   "metadata": {},
   "outputs": [
    {
     "data": {
      "text/plain": [
       "'sbwkrq'"
      ]
     },
     "execution_count": 37,
     "metadata": {},
     "output_type": "execute_result"
    }
   ],
   "source": [
    "palavra = 'python'\n",
    "cifra = []\n",
    "for i in palavra:\n",
    "    for j,k in enumerate(letras):\n",
    "        if i == k:\n",
    "            cifra.append(letras[j+3])\n",
    "cifra2 = ''.join(cifra).lower()\n",
    "cifra2"
   ]
  },
  {
   "cell_type": "code",
   "execution_count": 47,
   "id": "7161ad6a-2759-42bb-8991-ab21575749ce",
   "metadata": {},
   "outputs": [
    {
     "name": "stdin",
     "output_type": "stream",
     "text": [
      "Digite uma palavra para codificar:  python\n"
     ]
    },
    {
     "name": "stdout",
     "output_type": "stream",
     "text": [
      "\n",
      "        Palavra original:   python\n",
      "        Palavra codificada: sbwkrq\n"
     ]
    }
   ],
   "source": [
    "def codificar_cifra_cesar(string:str) -> str:\n",
    "    lista = []\n",
    "    letras = 'abcdefghijklmnopqrstuvwxyzABCDEFGHIJKLMNOPQRSTUVWXYZ'\n",
    "    \n",
    "    for i in palavra:\n",
    "        for j, k in enumerate(letras):\n",
    "            if i == k:\n",
    "                lista.append(letras[j+3])\n",
    "    \n",
    "    return ''.join(lista).lower()\n",
    "\n",
    "try:\n",
    "    palavra = input('Digite uma palavra para codificar: ').strip()\n",
    "    palavra_codificada = codificar_cifra_cesar(palavra)\n",
    "    print(f\"\"\"\n",
    "        Palavra original:   {palavra}\n",
    "        Palavra codificada: {palavra_codificada}\"\"\")\n",
    "except Exception as e:\n",
    "    print(f\"Erro inesperado: {e}\")"
   ]
  },
  {
   "cell_type": "code",
   "execution_count": 48,
   "id": "264dcd35-57b2-4814-8032-06259957ae96",
   "metadata": {},
   "outputs": [
    {
     "name": "stdin",
     "output_type": "stream",
     "text": [
      "Digite uma palavra para codificar:  python\n"
     ]
    },
    {
     "name": "stdout",
     "output_type": "stream",
     "text": [
      "\n",
      "        Palavra original:   python\n",
      "        Palavra codificada: sbwkrq\n"
     ]
    }
   ],
   "source": [
    "def codificar_cifra_cesar(string: str, deslocamento: int = 3) -> str:\n",
    "    letras = 'abcdefghijklmnopqrstuvwxyz'\n",
    "    lista = []\n",
    "    \n",
    "    for char in string:\n",
    "        if char.isalpha(): \n",
    "            pos = letras.index(char.lower())\n",
    "            nova_pos = (pos + deslocamento) % 26\n",
    "            lista.append(letras[nova_pos])\n",
    "        else:\n",
    "            lista.append(char)\n",
    "    \n",
    "    return ''.join(lista)\n",
    "\n",
    "try:\n",
    "    palavra = input('Digite uma palavra para codificar: ').strip()\n",
    "    palavra_codificada = codificar_cifra_cesar(palavra, 3)\n",
    "    print(f\"\"\"\n",
    "        Palavra original:   {palavra}\n",
    "        Palavra codificada: {palavra_codificada}\"\"\")\n",
    "except Exception as e:\n",
    "    print(f\"Erro inesperado: {e}\")"
   ]
  }
 ],
 "metadata": {
  "kernelspec": {
   "display_name": "Python 3 (ipykernel)",
   "language": "python",
   "name": "python3"
  },
  "language_info": {
   "codemirror_mode": {
    "name": "ipython",
    "version": 3
   },
   "file_extension": ".py",
   "mimetype": "text/x-python",
   "name": "python",
   "nbconvert_exporter": "python",
   "pygments_lexer": "ipython3",
   "version": "3.12.4"
  }
 },
 "nbformat": 4,
 "nbformat_minor": 5
}
