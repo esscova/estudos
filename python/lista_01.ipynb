{
  "nbformat": 4,
  "nbformat_minor": 0,
  "metadata": {
    "colab": {
      "provenance": []
    },
    "kernelspec": {
      "name": "python3",
      "display_name": "Python 3"
    },
    "language_info": {
      "name": "python"
    }
  },
  "cells": [
    {
      "cell_type": "markdown",
      "source": [
        "# Lista de exercícios Python"
      ],
      "metadata": {
        "id": "KdUkhiErEkNF"
      }
    },
    {
      "cell_type": "markdown",
      "source": [
        "### Exercício 1: Soma de Números Pares\n",
        "Escreva um programa que solicita ao usuário um número inteiro positivo `n` e calcula a soma de todos os números pares de 1 até `n`."
      ],
      "metadata": {
        "id": "orHIuUIVEvH0"
      }
    },
    {
      "cell_type": "code",
      "execution_count": 5,
      "metadata": {
        "colab": {
          "base_uri": "https://localhost:8080/"
        },
        "id": "Y8aHQtYYEije",
        "outputId": "359de3c2-0a0b-4874-c08c-45935cec1d90"
      },
      "outputs": [
        {
          "output_type": "stream",
          "name": "stdout",
          "text": [
            "Digite um número inteiro positivo: 20\n",
            "A soma dos números pares de 1 até 20 é: 110\n"
          ]
        }
      ],
      "source": [
        "num = int(input(\"Digite um número inteiro positivo: \"))\n",
        "if num <= 0:\n",
        "    print(\"Por favor, digite um número inteiro positivo.\")\n",
        "    exit()\n",
        "try:\n",
        "  positivos = [num for num in range(1, num + 1) if num % 2 == 0]\n",
        "  soma = sum(positivos)\n",
        "  print(f\"A soma dos números pares de 1 até {num} é: {soma}\")\n",
        "except:\n",
        "  print(\"Por favor, digite um número inteiro positivo.\")"
      ]
    },
    {
      "cell_type": "markdown",
      "source": [
        "### Exercício 2: Fatorial\n",
        "Crie uma função que recebe um número inteiro positivo `n` e retorna o fatorial desse número. O fatorial de um número `n` é o produto de todos os inteiros positivos de 1 a `n`."
      ],
      "metadata": {
        "id": "iaVuoejrFS0v"
      }
    },
    {
      "cell_type": "code",
      "source": [
        "num = int(input(\"Digite um número inteiro positivo: \"))\n",
        "if num < 0:\n",
        "    print(\"Por favor, digite um número inteiro positivo.\")\n",
        "    exit()\n",
        "try:\n",
        "  fatorial = 1\n",
        "  for i in range(1, num + 1):\n",
        "      fatorial *= i\n",
        "  print(f\"O fatorial de {num} é: {fatorial}\")\n",
        "except:\n",
        "  print(\"Por favor, digite um número inteiro positivo.\")"
      ],
      "metadata": {
        "colab": {
          "base_uri": "https://localhost:8080/"
        },
        "id": "SgtSayp3FWNu",
        "outputId": "e30c9c63-71f0-4d40-c651-3a76db88d9ba"
      },
      "execution_count": 6,
      "outputs": [
        {
          "output_type": "stream",
          "name": "stdout",
          "text": [
            "Digite um número inteiro positivo: 5\n",
            "O fatorial de 5 é: 120\n"
          ]
        }
      ]
    },
    {
      "cell_type": "markdown",
      "source": [
        "### Exercício 3: Contagem de Vogais\n",
        "Escreva um programa que conta quantas vogais (a, e, i, o, u) existem em uma string fornecida pelo usuário. O programa deve ser case-insensitive, ou seja, contar tanto vogais maiúsculas quanto minúsculas.\n"
      ],
      "metadata": {
        "id": "_vKEcxV4HYrl"
      }
    },
    {
      "cell_type": "code",
      "source": [
        "string = input(\"Digite uma string: \")\n",
        "vogais = 'aeiouAEIOU'\n",
        "frequencia = {vogal: string.count(vogal) for vogal in vogais}\n",
        "print(\"Frequência de vogais na string:\\n\", frequencia)"
      ],
      "metadata": {
        "colab": {
          "base_uri": "https://localhost:8080/"
        },
        "id": "qLh1MAKxHbwc",
        "outputId": "13edec13-6d53-4605-d00f-3aa5747ce062"
      },
      "execution_count": 14,
      "outputs": [
        {
          "output_type": "stream",
          "name": "stdout",
          "text": [
            "Digite uma string: O rato roeu a roupa do rei Raul de Roma\n",
            "Frequência de vogais na string:\n",
            " {'a': 5, 'e': 3, 'i': 1, 'o': 5, 'u': 3, 'A': 0, 'E': 0, 'I': 0, 'O': 1, 'U': 0}\n"
          ]
        }
      ]
    },
    {
      "cell_type": "markdown",
      "source": [
        "### Exercício 4: Números Primos\n",
        "Crie uma função que verifica se um número é primo. Um número primo é aquele que é divisível apenas por 1 e por ele mesmo. A função deve retornar `True` se o número for primo e `False` caso contrário."
      ],
      "metadata": {
        "id": "rDIdyY-xL4yE"
      }
    },
    {
      "cell_type": "code",
      "source": [
        "num = int(input(\"Digite um número inteiro positivo: \"))\n",
        "count=0\n",
        "\n",
        "if num <= 0:\n",
        "    print(\"Por favor, digite um número inteiro positivo.\")\n",
        "    exit()\n",
        "\n",
        "for i in range(1, num + 1):\n",
        "    if num % i == 0:\n",
        "        count += 1\n",
        "\n",
        "if count == 2:\n",
        "    print(True)\n",
        "else:\n",
        "    print(False)"
      ],
      "metadata": {
        "colab": {
          "base_uri": "https://localhost:8080/"
        },
        "id": "9eUhNLJcL73Z",
        "outputId": "814ae387-a89e-4bae-ec27-0ee8807767aa"
      },
      "execution_count": 16,
      "outputs": [
        {
          "output_type": "stream",
          "name": "stdout",
          "text": [
            "Digite um número inteiro positivo: 22\n",
            "False\n"
          ]
        }
      ]
    },
    {
      "cell_type": "markdown",
      "source": [
        "### Exercício 5: Inversão de String\n",
        "Escreva um programa que recebe uma string do usuário e retorna a mesma string, mas invertida."
      ],
      "metadata": {
        "id": "v-bNQemKMymk"
      }
    },
    {
      "cell_type": "code",
      "source": [
        "s = input(\"Digite uma string: \")\n",
        "print(s[::-1])"
      ],
      "metadata": {
        "colab": {
          "base_uri": "https://localhost:8080/"
        },
        "id": "YI7y94B-M1Rp",
        "outputId": "1a8eb844-edda-4ed6-986e-8d111bcae050"
      },
      "execution_count": 17,
      "outputs": [
        {
          "output_type": "stream",
          "name": "stdout",
          "text": [
            "Digite uma string: Se nevasse o povo usava esqui?\n",
            "?iuqse avasu ovop o essaven eS\n"
          ]
        }
      ]
    }
  ]
}