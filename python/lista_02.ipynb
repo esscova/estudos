{
  "nbformat": 4,
  "nbformat_minor": 0,
  "metadata": {
    "colab": {
      "provenance": []
    },
    "kernelspec": {
      "name": "python3",
      "display_name": "Python 3"
    },
    "language_info": {
      "name": "python"
    }
  },
  "cells": [
    {
      "cell_type": "markdown",
      "source": [
        "# Lista de exercicios com Python"
      ],
      "metadata": {
        "id": "unN5Ema_zxYZ"
      }
    },
    {
      "cell_type": "markdown",
      "source": [
        "Média de Números\n",
        "\n",
        "Escreva um programa que solicita ao usuário uma lista de números e calcula a média desses números. O programa deve continuar pedindo números até que o usuário digite \"fim\"."
      ],
      "metadata": {
        "id": "S9zxMzxZz4p7"
      }
    },
    {
      "cell_type": "code",
      "source": [
        "print(\"Médias em tempo real \\n\")\n",
        "numeros = []\n",
        "while True:\n",
        "  try:\n",
        "    num = float(input('Digite um número: '))\n",
        "    numeros.append(num)\n",
        "    media = sum(numeros) / len(numeros)\n",
        "    print(f'Lista de números: {numeros}\\nA média é: {media}')\n",
        "\n",
        "  except ValueError:\n",
        "    print('Digite um número válido')\n",
        "\n",
        "  controle = input('\\nDeseja continuar? S/N: ').lower()\n",
        "  if controle == 'n':\n",
        "    break\n",
        "\n",
        "\n"
      ],
      "metadata": {
        "colab": {
          "base_uri": "https://localhost:8080/"
        },
        "id": "kIo63ArZ0KoQ",
        "outputId": "fd87d87b-6138-4aaa-fa8d-f9a38922595e"
      },
      "execution_count": 5,
      "outputs": [
        {
          "name": "stdout",
          "output_type": "stream",
          "text": [
            "Médias em tempo real \n",
            "\n",
            "Digite um número: 2\n",
            "Lista de números: [2.0]\n",
            "A média é: 2.0\n",
            "\n",
            "Deseja continuar? S/Ns\n",
            "Digite um número: 23\n",
            "Lista de números: [2.0, 23.0]\n",
            "A média é: 12.5\n",
            "\n",
            "Deseja continuar? S/Ns\n",
            "Digite um número: 22\n",
            "Lista de números: [2.0, 23.0, 22.0]\n",
            "A média é: 15.666666666666666\n",
            "\n",
            "Deseja continuar? S/Nn\n"
          ]
        }
      ]
    },
    {
      "cell_type": "markdown",
      "source": [
        "Palíndromo\n",
        "\n",
        "Crie uma função que verifica se uma palavra ou frase é um palíndromo. Um palíndromo é uma palavra ou frase que é a mesma quando lida de trás para frente, ignorando espaços e pontuações."
      ],
      "metadata": {
        "id": "Hg1EANHZz-3B"
      }
    },
    {
      "cell_type": "code",
      "source": [
        "def verifica_palindromo(palavra) -> bool:\n",
        "    if palavra == palavra[::-1]:\n",
        "        return True\n",
        "    else:\n",
        "        return False\n",
        "\n",
        "verifica_palindromo('ovo')"
      ],
      "metadata": {
        "colab": {
          "base_uri": "https://localhost:8080/"
        },
        "id": "_tehkh2q4Cda",
        "outputId": "afcc9283-f8e3-4eb5-91f1-34419353bf88"
      },
      "execution_count": 10,
      "outputs": [
        {
          "output_type": "execute_result",
          "data": {
            "text/plain": [
              "True"
            ]
          },
          "metadata": {},
          "execution_count": 10
        }
      ]
    },
    {
      "cell_type": "markdown",
      "source": [
        "Fibonacci\n",
        "\n",
        "Escreva um programa que gera os primeiros n números da sequência de Fibonacci, onde n é um número fornecido pelo usuário. A sequência de Fibonacci começa com 0 e 1, e cada número subsequente é a soma dos dois anteriores."
      ],
      "metadata": {
        "id": "_HsLnVQu0CB8"
      }
    },
    {
      "cell_type": "code",
      "source": [
        "n = int(input(\"digite um numero: \"))\n",
        "num1 = 0\n",
        "num2 = 1\n",
        "prox_num = num2\n",
        "\n",
        "for i in range(n):\n",
        "    prox_num = num1 + num2\n",
        "    num1 = num2\n",
        "    num2 = prox_num\n",
        "    print(prox_num, end=\" \")"
      ],
      "metadata": {
        "colab": {
          "base_uri": "https://localhost:8080/"
        },
        "id": "lqG_gtHR46Q6",
        "outputId": "c91b8464-864e-4ae5-cce5-8a80ca373e80"
      },
      "execution_count": 17,
      "outputs": [
        {
          "output_type": "stream",
          "name": "stdout",
          "text": [
            "digite um numero: 15\n",
            "1 2 3 5 8 13 21 34 55 89 144 233 377 610 987 "
          ]
        }
      ]
    },
    {
      "cell_type": "markdown",
      "source": [
        "Contador de Palavras\n",
        "\n",
        "Crie um programa que conta o número de palavras em uma string fornecida pelo usuário. Considere que as palavras são separadas por espaços."
      ],
      "metadata": {
        "id": "-EXsDpKI0EuP"
      }
    },
    {
      "cell_type": "code",
      "source": [
        "frase = input('Digite uma frase: ')\n",
        "palavras = frase.split()\n",
        "print(f'A frase possui {len(palavras)} palavras')"
      ],
      "metadata": {
        "colab": {
          "base_uri": "https://localhost:8080/"
        },
        "id": "Iq-0MhA79A9D",
        "outputId": "33da587d-08ea-4df4-978e-dea62d819364"
      },
      "execution_count": 18,
      "outputs": [
        {
          "output_type": "stream",
          "name": "stdout",
          "text": [
            "Digite uma frase: A verdadeira questão é: quanta verdade consigo suportar?\n",
            "A frase possui 8 palavras\n"
          ]
        }
      ]
    },
    {
      "cell_type": "markdown",
      "source": [
        "Tabuada\n",
        "\n",
        "Escreva um programa que gera a tabuada de um número fornecido pelo usuário. A tabuada deve ir de 1 a 10."
      ],
      "metadata": {
        "id": "yQohdjqt0HUn"
      }
    },
    {
      "cell_type": "code",
      "execution_count": 19,
      "metadata": {
        "colab": {
          "base_uri": "https://localhost:8080/"
        },
        "id": "tPDVxCPiziXP",
        "outputId": "be48383e-231a-45dc-d834-3e5cd398c04d"
      },
      "outputs": [
        {
          "output_type": "stream",
          "name": "stdout",
          "text": [
            "Digite um número: 2\n",
            "2 x 1 = 2\n",
            "2 x 2 = 4\n",
            "2 x 3 = 6\n",
            "2 x 4 = 8\n",
            "2 x 5 = 10\n",
            "2 x 6 = 12\n",
            "2 x 7 = 14\n",
            "2 x 8 = 16\n",
            "2 x 9 = 18\n",
            "2 x 10 = 20\n"
          ]
        }
      ],
      "source": [
        "num = int(input('Digite um número: '))\n",
        "for i in range(1, 11):\n",
        "    print(f'{num} x {i} = {num * i}')"
      ]
    }
  ]
}